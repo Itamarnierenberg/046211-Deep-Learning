{
 "cells": [
  {
   "cell_type": "markdown",
   "metadata": {
    "id": "dzV9wsJ5pGhf"
   },
   "source": [
    "# <img src=\"https://img.icons8.com/bubbles/50/000000/mind-map.png\" style=\"height:50px;display:inline\"> ECE 046211 - Technion - Deep Learning\n",
    "---\n",
    "\n",
    "## HW2 - Multilayer NNs and Convolutional NNs\n",
    "---"
   ]
  },
  {
   "cell_type": "markdown",
   "metadata": {
    "id": "bq2c8X93pGhh"
   },
   "source": [
    "### <img src=\"https://img.icons8.com/clouds/96/000000/keyboard.png\" style=\"height:50px;display:inline\"> Keyboard Shortcuts\n",
    "---\n",
    "* Run current cell: **Ctrl + Enter**\n",
    "* Run current cell and move to the next: **Shift + Enter**\n",
    "* Show lines in a code cell: **Esc + L**\n",
    "* View function documentation: **Shift + Tab** inside the parenthesis or `help(name_of_module)`\n",
    "* New cell below: **Esc + B**\n",
    "* Delete cell: **Esc + D, D** (two D's)"
   ]
  },
  {
   "cell_type": "markdown",
   "metadata": {
    "id": "vZZybn3NpGhh"
   },
   "source": [
    "### <img src=\"https://img.icons8.com/bubbles/50/000000/information.png\" style=\"height:50px;display:inline\"> Students Information\n",
    "---\n",
    "* Fill in\n",
    "\n",
    "| Name              | Campus Email                    | ID        |\n",
    "|-------------------|---------------------------------|-----------|\n",
    "| Nir Elfasi        | nirelfasi@campus.technion.ac.il | 206094567 |\n",
    "| Itamar Nierenberg | itamarnie@campus.technion.ac.il | 205939010 |\n"
   ]
  },
  {
   "cell_type": "markdown",
   "metadata": {
    "id": "dDK5zqhdpGhi"
   },
   "source": [
    "### <img src=\"https://img.icons8.com/bubbles/50/000000/upload-to-cloud.png\" style=\"height:50px;display:inline\"> Submission Guidelines\n",
    "---\n",
    "* Maximal garde: 100.\n",
    "* Submission only in **pairs**. \n",
    "    * Please make sure you have registered your group in Moodle (there is a group creation component on the Moodle where you need to create your group and assign members).\n",
    "* **No handwritten submissions.** You can choose whether to answer in a Markdown cell in this notebook or attach a PDF with your answers.\n",
    "* <a style='color:red'> SAVE THE NOTEBOOKS WITH THE OUTPUT, CODE CELLS THAT WERE NOT RUN WILL NOT GET ANY POINTS! </a>\n",
    "* What you have to submit:\n",
    "    * If you have answered the questions in the notebook, you should submit this file only, with the name: `ece046211_hw2_id1_id2.ipynb`.\n",
    "    * If you answered the questions in a different file you should submit a `.zip` file with the name `ece046211_hw2_id1_id2.zip` with content:\n",
    "        * `ece046211_hw2_id1_id2.ipynb` - the code tasks\n",
    "        * `ece046211_hw2_id1_id2.pdf` - answers to questions.\n",
    "    * No other file-types (`.py`, `.docx`...) will be accepted.\n",
    "* Submission on the course website (Moodle).\n",
    "* **Latex in Colab** - in some cases, Latex equations may no be rendered. To avoid this, make sure to not use *bullets* in your answers (\"* some text here with Latex equations\" -> \"some text here with Latex equations\")."
   ]
  },
  {
   "cell_type": "markdown",
   "metadata": {
    "id": "pmSj_UufpGhi"
   },
   "source": [
    "### <img src=\"https://img.icons8.com/dusk/64/000000/online.png\" style=\"height:50px;display:inline\"> Working Online and Locally\n",
    "---\n",
    "* You can choose your working environment:\n",
    "    1. `Jupyter Notebook`, **locally** with <a href=\"https://www.anaconda.com/distribution/\">Anaconda</a> or **online** on <a href=\"https://colab.research.google.com/\">Google Colab</a>\n",
    "        * Colab also supports running code on GPU, so if you don't have one, Colab is the way to go. To enable GPU on Colab, in the menu: `Runtime`$\\rightarrow$ `Change Runtime Type` $\\rightarrow$`GPU`.\n",
    "    2. Python IDE such as <a href=\"https://www.jetbrains.com/pycharm/\">PyCharm</a> or <a href=\"https://code.visualstudio.com/\">Visual Studio Code</a>.\n",
    "        * Both allow editing and running Jupyter Notebooks.\n",
    "\n",
    "* Please refer to `Setting Up the Working Environment.pdf` on the Moodle or our GitHub (https://github.com/taldatech/ee046211-deep-learning) to help you get everything installed.\n",
    "* If you need any technical assistance, please go to our Piazza forum (`hw2` folder) and describe your problem (preferably with images)."
   ]
  },
  {
   "cell_type": "markdown",
   "metadata": {
    "id": "nlp1Fp4ppGhj"
   },
   "source": [
    "### <img src=\"https://img.icons8.com/bubbles/50/000000/checklist.png\" style=\"height:50px;display:inline\"> Agenda\n",
    "---\n",
    "\n",
    "* [Part 1 - Theory](#-Part-1---Theory)\n",
    "    * [Q1 - Generalization in A Teacher-Student Setup](#-Question-1--Generalization-in-A-Teacher-Student-Setup)\n",
    "    * [Q2 - Backpropagation By Hand](#-Question-2---Backpropagation-By-Hand)\n",
    "    * [Q3 - Deep Double Descent](#-Question-3---Deep-Double-Descent)\n",
    "    * [Q4 - Initialization](#-Question-4---Initialization)\n",
    "    * [Q5 - MLP and Invaraince](#-Question-5---MLP-and-Invaraince)\n",
    "    * [Q6 - VGG Architecture](#-Question-6--VGG-Architecture)\n",
    "* [Part 2 - Code Assignments](#-Part-2---Code-Assignments)\n",
    "    * [Task 1 - The Importance of Activation and Initialization](#-Task-1---The-Importance-of-Activation-and-Initialization)\n",
    "    * [Task 2 - MLP-based Deep Classifer](#-Task-2---MLP-based-Deep-Classifer)\n",
    "    * [Task 3 - Design a CNN](#-Task-3---Design-a-CNN)\n",
    "* [Credits](#-Credits)"
   ]
  },
  {
   "cell_type": "markdown",
   "metadata": {
    "id": "XKtSiQX_pGhj"
   },
   "source": [
    "### <img src=\"https://img.icons8.com/cute-clipart/64/000000/ball-point-pen.png\" style=\"height:50px;display:inline\"> Part 1 - Theory\n",
    "---\n",
    "* You can choose whether to answser these straight in the notebook (Markdown + Latex) or use another editor (Word, LyX, Latex, Overleaf...) and submit an additional PDF file, **but no handwritten submissions**.\n",
    "* You can attach additional figures (drawings, graphs,...) in a separate PDF file, just make sure to refer to them in your answers.\n",
    "\n",
    "* $\\large\\LaTeX$ <a href=\"https://kapeli.com/cheat_sheets/LaTeX_Math_Symbols.docset/Contents/Resources/Documents/index\">Cheat-Sheet</a> (to write equations)\n",
    "    * <a href=\"http://tug.ctan.org/info/latex-refsheet/LaTeX_RefSheet.pdf\">Another Cheat-Sheet</a>"
   ]
  },
  {
   "cell_type": "markdown",
   "metadata": {
    "id": "RsqSFZG1pGhj"
   },
   "source": [
    "## <img src=\"https://img.icons8.com/clouds/100/000000/question-mark.png\" style=\"height:50px;display:inline\"> Question 1 -Generalization in A Teacher-Student Setup\n",
    "---\n",
    "\n",
    "Recall from lecture 4 the Risk $\\mathcal{R}(w)$: $$ \\mathcal{R}(w) \\triangleq \\mathbb{E}_{x^{(0)} \\sim \\mathcal{N}(0, I) } \\left[ ||w^Tx^{(0)} - w_t^Tx^{(0)}||^2 \\right] $$\n",
    "\n",
    "Prove:\n",
    "\n",
    "$$ \\mathcal{R}(w) = ||w-w_t||^2 $$"
   ]
  },
  {
   "cell_type": "markdown",
   "source": [
    "# Question 1 - Answer\n",
    "\n",
    "We'll prove this claim by using the properties of a Gaussian Vector.\n",
    "$$ w^Tx^{(0)} - w_t^Tx^{(0)} = (w^T - w_t^T)x^{(0)} $$\n",
    "Now we'll define $ z = w - w_t $ and notate:\n",
    "\n",
    "$$\n",
    "x^{(0)} = \\begin{bmatrix}\n",
    "           x_{1} \\\\\n",
    "           x_{2} \\\\\n",
    "           \\vdots \\\\\n",
    "           x_{n}\n",
    "         \\end{bmatrix}\n",
    "z = \\begin{bmatrix}\n",
    "           z_{1} \\\\\n",
    "           z_{2} \\\\\n",
    "           \\vdots \\\\\n",
    "           z_{n}\n",
    "         \\end{bmatrix}\n",
    "\\Rightarrow (w^T - w_t^T)x^{(0)} = z^Tx^{(0)} = z_{1}x_{1} + z_{2}x_{2} + ... + z_{n}x_{n}\n",
    "$$\n",
    "\n",
    "This means that $z^Tx^{(0)}$ is a linear combination of the components of a Gaussian vector and by definition of the Gaussian vector, $z^Tx^{(0)} $ is itself a Gaussian random variable.\n",
    "After this conclusion we can safely say that $ \\mathbb{E}_{x^{(0)} \\sim \\mathcal{N}(0, I) } \\left[ ||z^Tx^{(0)}||^2 \\right] $ Is the second momentum of the random Gaussian variable $ z^Tx^{(0)} $\n",
    "\n",
    "$$ \\mathbb{E}_{x^{(0)} \\sim \\mathcal{N}(0, I) } \\left[ ||z^Tx^{(0)}||^2 \\right]  = \\mathbb{E}_{x^{(0)} \\sim \\mathcal{N}(0, I) } \\left[ (z_{1}x_{1} + z_{2}x_{2} + ... + z_{n}x_{n})^2 \\right]$$\n",
    "\n",
    "Since the Covariance matrix is $ I $ for a Gaussian vector that means that all $ x_{i} $ are statistically independent plus all the expectations of $ x_{i} $ are zero, then all the expectations which contain the multiplication $ x_{i} \\cdot x_{j} \\; s.t \\;  i \\neq j $ will result in zero which leave us with the result:\n",
    "$$ \\mathbb{E}_{x^{(0)} \\sim \\mathcal{N}(0, I) } \\left[ (z_{1}x_{1} + z_{2}x_{2} + ... + z_{n}x_{n})^2 \\right] = \\mathbb{E}_{x^{(0)} \\sim \\mathcal{N}(0, I) } \\left[ (z_{1}x_{1})^2 + (z_{2}x_{2})^2 + ... + (z_{n}x_{n})^2 \\right] = \\[ \\sum_{i=1}^{n} \\mathbb{E}_{x^{(0)} \\sim \\mathcal{N}(0, I) } \\left[ (z_{i}x_{i})^2 \\right] \\] = \\[ \\sum_{i=1}^{n} z_{i}^2 \\mathbb{E}_{x^{(0)} \\sim \\mathcal{N}(0, I) } \\left[ x_{i}^2 \\right] \\] = \\[ \\sum_{i=1}^{n} z_{i}^2 \\] = ||z||^2 = ||w - w_t||^2$$\n",
    "\n",
    "$$ \\blacksquare $$"
   ],
   "metadata": {
    "collapsed": false
   }
  },
  {
   "cell_type": "markdown",
   "metadata": {
    "slideshow": {
     "slide_type": "slide"
    }
   },
   "source": [
    "## <img src=\"https://img.icons8.com/clouds/100/000000/question-mark.png\" style=\"height:50px;display:inline\"> Question 2 - Backpropagation By Hand\n",
    "---\n",
    "Consider the following network:\n",
    "<img src=\"https://raw.githubusercontent.com/taldatech/ee046211-deep-learning/main/assets/backprop_by_hand_ex1.png\" style=\"height:300px\">\n",
    "\n",
    "We will work with one sample for this example, but it can be extended to mini-batches.\n",
    "\n",
    "* Input: $x = \\begin{bmatrix} 1 \\\\ 4 \\\\ 5 \\end{bmatrix} \\in \\mathbb{R}^3$\n",
    "* Output (target): $ t = \\begin{bmatrix} 0.1 \\\\ 0.05 \\end{bmatrix} \\in \\mathbb{R}^2 $\n",
    "* Number of Hidden Layers: 1\n",
    "* Activation: Sigmoid for both hidden and output layers\n",
    "* Loss Functions: MSE\n",
    "\n",
    "We initialize the weights and biases to random values as follows:\n",
    "<img src=\"https://raw.githubusercontent.com/taldatech/ee046211-deep-learning/main/assets/backprop_by_hand_ex2.png\" style=\"height:300px\">\n",
    "\n",
    "1. Perform one forward pass and calculate the MSE.\n",
    "2. Perform backpropagation (one backward pass, i.e., calculate the gradients).\n",
    "3. With a learning rate of $\\alpha = 0.01$, what are the new values of the weights after performing the forward pass and backward pass (assume we use SGD)?"
   ]
  },
  {
   "cell_type": "markdown",
   "source": [
    "# Question 2 - Answer\n",
    "We'll start by defining parameter matrix for each layer:\n",
    "$$ x = \\begin{pmatrix} 1 \\\\ 4 \\\\ 5 \\end{pmatrix} $$\n",
    "$$ W_1 = \\begin{pmatrix} 0.1 & 0.3 & 0.5 \\\\ 0.2 & 0.4 & 0.6 \\end{pmatrix} \\;\\; b_1 = \\begin{pmatrix} 0.5 \\\\ 0.5 \\end{pmatrix} $$\n",
    "$$ h = \\sigma(W_1x + b_1) $$\n",
    "$$ W_2 = \\begin{pmatrix} 0.7 & 0.9 \\\\ 0.8 & 0.1 \\end{pmatrix} \\;\\; b_2 = \\begin{pmatrix} 0.5 \\\\ 0.5 \\end{pmatrix} $$\n",
    "$$ o = \\sigma(W_2h + b_2) $$\n",
    "$$ MSE = ||o-t||^2 $$\n",
    "\n",
    "1. We'll do the forward pass, While using code segments for pure calculation, we will calculate the relevant derivatives as we go:\n",
    "\n",
    "$$ z_1 = W_1x + b_1 = \\begin{pmatrix} 0.1 & 0.3 & 0.5 \\\\ 0.2 & 0.4 & 0.6 \\end{pmatrix}\\begin{pmatrix} 1 \\\\ 4 \\\\ 5 \\end{pmatrix} + \\begin{pmatrix} 0.5 \\\\ 0.5 \\end{pmatrix} = \\begin{pmatrix} 0.1 + 1.2 + 2.5 + 0.5 \\\\ 0.2 + 1.6 + 3 + 0.5 \\end{pmatrix} = \\begin{pmatrix} 4.3 \\\\ 5.3 \\end{pmatrix}$$\n",
    "$$ \\frac{\\partial z_1}{\\partial W_1} $$\n",
    "$$ \\frac{\\partial z_1}{\\partial b_1} = \\begin{pmatrix} 1 & 0 \\\\ 0 & 1 \\end{pmatrix} $$\n",
    "$$ z_2 = \\sigma(z_1) = h = \\begin{pmatrix} \\sigma(4.3) \\\\ \\sigma(5.3) \\end{pmatrix} = \\begin{pmatrix} 0.98661308 \\\\ 0.9950332 \\end{pmatrix} $$\n",
    "$$ \\frac{\\partial z_2}{\\partial z_1} = \\begin{pmatrix} \\sigma(z_{11})(1-\\sigma(z_{11}) & 0 \\\\ 0 & \\sigma(z_{12})(1-\\sigma(z_{12}) \\end{pmatrix} = \\begin{pmatrix} 0.01320771 & 0 \\\\ 0 & 0.00494213 \\end{pmatrix}$$\n",
    "$$ z_3 = W_2z_2 + b_2 =W_2h + b_2 = \\begin{pmatrix} 0.7 & 0.9 \\\\ 0.8 & 0.1 \\end{pmatrix}\\begin{pmatrix} \\sigma(4.3) \\\\ \\sigma(5.3) \\end{pmatrix} + \\begin{pmatrix} 0.5 \\\\ 0.5 \\end{pmatrix} = \\begin{pmatrix} 0.7\\cdot\\sigma(4.3) + 0.9\\cdot\\sigma(5.3) + 0.5 \\\\ 0.8\\cdot\\sigma(4.3) + 0.1\\cdot\\sigma(5.3) + 0.5 \\end{pmatrix} = \\begin{pmatrix} 2.08615904 \\\\ 1.38879379 \\end{pmatrix} $$\n",
    "$$ \\frac{\\partial z_3}{\\partial z_2} = W_2 = \\begin{pmatrix} 0.7 & 0.9 \\\\ 0.8 & 0.1 \\end{pmatrix} $$\n",
    "$$ \\frac{\\partial z_3}{\\partial W_2}$$\n",
    "$$ \\frac{\\partial z_3}{\\partial b_2} = \\begin{pmatrix} 1 & 0 \\\\ 0 & 1 \\end{pmatrix} $$\n",
    "$$ z_4 = o = \\sigma(z_3) = \\begin{pmatrix} \\sigma(0.7\\cdot\\sigma(4.3) + 0.9\\cdot\\sigma(5.3) + 0.5) \\\\ \\sigma(0.8\\cdot\\sigma(4.3) + 0.1\\cdot\\sigma(5.3) + 0.5) \\end{pmatrix} = \\begin{pmatrix} 0.88955061 \\\\ 0.80039961 \\end{pmatrix} $$\n",
    "$$ \\frac{\\partial z_4}{\\partial z_3} = \\begin{pmatrix} \\sigma(z_{31})(1-\\sigma(z_{31}) & 0 \\\\ 0 & \\sigma(z_{32})(1-\\sigma(z_{32}) \\end{pmatrix} = \\begin{pmatrix} 0.09825032 & 0 \\\\ 0 & 0.15976008 \\end{pmatrix}$$\n",
    "$$ z_5 = ||z_4 -t||^2 =||o-t||^2 = (\\sigma(0.7\\cdot\\sigma(4.3) + 0.9\\cdot\\sigma(5.3) + 0.5) - 0.1)^2 + (\\sigma(0.8\\cdot\\sigma(4.3) + 0.1\\cdot\\sigma(5.3) + 0.5) - 0.05)^2 = 1.186489743807772$$\n",
    "$$ \\frac{\\partial z_5}{\\partial z_4} = 2(z_4-t)  = 2\\begin{pmatrix} 0.88955061 - 0.1 & 0.80039961 - 0.05 \\end{pmatrix} = \\begin{pmatrix} 1.57910122 & 1.50079922 \\end{pmatrix}$$\n",
    "\n",
    "*To Summarize this part, $ MSE = z_5 = 1.186489743807772 $*\n",
    "\n",
    "2. Now we will perform the backpropagation part:\n",
    "\n",
    "$$ \\frac{\\partial z_5}{\\partial W_{2_{11}}} = \\frac{\\partial z_5}{\\partial z_{4_{1}}} \\frac{\\partial z_{4_{1}}}{\\partial z_{3_{1}}} \\frac {\\partial z_{3_{1}}}{\\partial W_{2_{11}}} = 1.57910122 \\cdot 0.09825032 \\cdot 0.98661308 = 0.153070257$$\n",
    "$$ \\frac{\\partial z_5}{\\partial W_{2_{12}}} = \\frac{\\partial z_5}{\\partial z_{4_{1}}} \\frac{\\partial z_{4_{1}}}{\\partial z_{3_{1}}} \\frac {\\partial z_{3_{1}}}{\\partial W_{2_{12}}} = 1.57910122 \\cdot 0.09825032 \\cdot 0.9950332 = 0.1543766151$$\n",
    "$$ \\frac{\\partial z_5}{\\partial W_{2_{21}}} = \\frac{\\partial z_5}{\\partial z_{4_{2}}} \\frac{\\partial z_{4_{2}}}{\\partial z_{3_{2}}} \\frac {\\partial z_{3_{2}}}{\\partial W_{2_{21}}} = 1.50079922 \\cdot 0.15976008 \\cdot 0.98661308 = 0.236558051$$\n",
    "$$ \\frac{\\partial z_5}{\\partial W_{2_{22}}} = \\frac{\\partial z_5}{\\partial z_{4_{2}}} \\frac{\\partial z_{4_{2}}}{\\partial z_{3_{2}}} \\frac {\\partial z_{3_{2}}}{\\partial W_{2_{22}}} = 1.50079922 \\cdot 0.15976008 \\cdot 0.9950332 = 0.2385769247$$\n",
    "\n",
    "$$\\frac{\\partial z_5}{\\partial W_2} = \\begin{pmatrix} 0.153070257 & 0.1543766151 \\\\ 0.236558051 & 0.2385769247 \\end{pmatrix} $$\n",
    "\n",
    "\n",
    "$$\\frac{\\partial z_5}{\\partial W_{1_{11}}} = \\frac{\\partial z_5}{\\partial z_4}\\frac{\\partial z_4}{\\partial z_3}\\frac{\\partial z_3}{\\partial z_2}\\frac{\\partial z_2}{\\partial z_1}\\frac{\\partial z_{1}}{\\partial W_{1_{11}}} = \\begin{pmatrix} 1.57910122 & 1.50079922 \\end{pmatrix} \\begin{pmatrix} 0.09825032 & 0 \\\\ 0 & 0.15976008 \\end{pmatrix} \\begin{pmatrix} 0.7 & 0.9 \\\\ 0.8 & 0.1 \\end{pmatrix}\\begin{pmatrix} 0.01320771 & 0 \\\\ 0 & 0.00494213 \\end{pmatrix} * \\begin{pmatrix} 1 \\\\ 0 \\end{pmatrix} = 0.00396782$$\n",
    "$$\\frac{\\partial z_5}{\\partial W_{1_{12}}} = \\frac{\\partial z_5}{\\partial z_4}\\frac{\\partial z_4}{\\partial z_3}\\frac{\\partial z_3}{\\partial z_2}\\frac{\\partial z_2}{\\partial z_1}\\frac{\\partial z_{1}}{\\partial W_{1_{12}}} = \\begin{pmatrix} 1.57910122 & 1.50079922 \\end{pmatrix} \\begin{pmatrix} 0.09825032 & 0 \\\\ 0 & 0.15976008 \\end{pmatrix} \\begin{pmatrix} 0.7 & 0.9 \\\\ 0.8 & 0.1 \\end{pmatrix}\\begin{pmatrix} 0.01320771 & 0 \\\\ 0 & 0.00494213 \\end{pmatrix} * \\begin{pmatrix} 4 \\\\ 0 \\end{pmatrix} = 0.01587129$$\n",
    "$$\\frac{\\partial z_5}{\\partial W_{1_{13}}} = \\frac{\\partial z_5}{\\partial z_4}\\frac{\\partial z_4}{\\partial z_3}\\frac{\\partial z_3}{\\partial z_2}\\frac{\\partial z_2}{\\partial z_1}\\frac{\\partial z_{1}}{\\partial W_{1_{13}}} = \\begin{pmatrix} 1.57910122 & 1.50079922 \\end{pmatrix} \\begin{pmatrix} 0.09825032 & 0 \\\\ 0 & 0.15976008 \\end{pmatrix} \\begin{pmatrix} 0.7 & 0.9 \\\\ 0.8 & 0.1 \\end{pmatrix}\\begin{pmatrix} 0.01320771 & 0 \\\\ 0 & 0.00494213 \\end{pmatrix} * \\begin{pmatrix} 5 \\\\ 0 \\end{pmatrix} = 0.01983912$$\n",
    "$$\\frac{\\partial z_5}{\\partial W_{1_{21}}} = \\frac{\\partial z_5}{\\partial z_4}\\frac{\\partial z_4}{\\partial z_3}\\frac{\\partial z_3}{\\partial z_2}\\frac{\\partial z_2}{\\partial z_1}\\frac{\\partial z_{1}}{\\partial W_{1_{21}}} = \\begin{pmatrix} 1.57910122 & 1.50079922 \\end{pmatrix} \\begin{pmatrix} 0.09825032 & 0 \\\\ 0 & 0.15976008 \\end{pmatrix} \\begin{pmatrix} 0.7 & 0.9 \\\\ 0.8 & 0.1 \\end{pmatrix}\\begin{pmatrix} 0.01320771 & 0 \\\\ 0 & 0.00494213 \\end{pmatrix} * \\begin{pmatrix} 0 \\\\ 1 \\end{pmatrix} = 0.00080858$$\n",
    "$$\\frac{\\partial z_5}{\\partial W_{1_{22}}} = \\frac{\\partial z_5}{\\partial z_4}\\frac{\\partial z_4}{\\partial z_3}\\frac{\\partial z_3}{\\partial z_2}\\frac{\\partial z_2}{\\partial z_1}\\frac{\\partial z_{1}}{\\partial W_{1_{22}}} = \\begin{pmatrix} 1.57910122 & 1.50079922 \\end{pmatrix} \\begin{pmatrix} 0.09825032 & 0 \\\\ 0 & 0.15976008 \\end{pmatrix} \\begin{pmatrix} 0.7 & 0.9 \\\\ 0.8 & 0.1 \\end{pmatrix}\\begin{pmatrix} 0.01320771 & 0 \\\\ 0 & 0.00494213 \\end{pmatrix} * \\begin{pmatrix} 0 \\\\ 4 \\end{pmatrix} = 0.00323431$$\n",
    "$$\\frac{\\partial z_5}{\\partial W_{1_{23}}} = \\frac{\\partial z_5}{\\partial z_4}\\frac{\\partial z_4}{\\partial z_3}\\frac{\\partial z_3}{\\partial z_2}\\frac{\\partial z_2}{\\partial z_1}\\frac{\\partial z_{1}}{\\partial W_{1_{23}}} = \\begin{pmatrix} 1.57910122 & 1.50079922 \\end{pmatrix} \\begin{pmatrix} 0.09825032 & 0 \\\\ 0 & 0.15976008 \\end{pmatrix} \\begin{pmatrix} 0.7 & 0.9 \\\\ 0.8 & 0.1 \\end{pmatrix}\\begin{pmatrix} 0.01320771 & 0 \\\\ 0 & 0.00494213 \\end{pmatrix} * \\begin{pmatrix} 0 \\\\ 5 \\end{pmatrix} = 0.00404289$$\n",
    "\n",
    "$$\\frac{\\partial z_5}{\\partial W_1} = \\begin{pmatrix} 0.00396782 & 0.01587129 & 0.01983912 \\\\ 0.00080858 & 0.00323431 & 0.00404289 \\end{pmatrix}$$\n",
    "\n",
    "$$\\frac{\\partial z_5}{\\partial b_2} = \\frac{\\partial z_5}{\\partial z_4}\\frac{\\partial z_4}{\\partial z_3}\\frac{\\partial z_3}{\\partial b_2} = \\begin{pmatrix} 1.57910122 & 1.50079922 \\end{pmatrix}\\begin{pmatrix} 0.09825032 & 0 \\\\ 0 & 0.15976008 \\end{pmatrix}\\begin{pmatrix} 1 & 0 \\\\ 0 & 1 \\end{pmatrix}  = \\begin{pmatrix} 0.1551472 & 0.2397678 \\end{pmatrix}$$\n",
    "\n",
    "$$\\frac{\\partial z_5}{\\partial b_1} = \\frac{\\partial z_5}{\\partial z_4}\\frac{\\partial z_4}{\\partial z_3}\\frac{\\partial z_3}{\\partial z_2}\\frac{\\partial z_2}{\\partial z_1}\\frac{\\partial z_1}{\\partial b_1} = \\begin{pmatrix} 1.57910122 & 1.50079922 \\end{pmatrix}\\begin{pmatrix} 0.09825032 & 0 \\\\ 0 & 0.15976008\\end{pmatrix} \\begin{pmatrix} 0.7 & 0.9 \\\\ 0.8 & 0.1 \\end{pmatrix} \\begin{pmatrix} 0.01320771 & 0 \\\\ 0 & 0.00494213 \\end{pmatrix} \\begin{pmatrix} 1 & 0 \\\\ 0 & 1 \\end{pmatrix}  = \\begin{pmatrix} 0.00396782 & 0.00080858 \\end{pmatrix}$$\n",
    "\n",
    "*To Summarize this part:*\n",
    "$$\\frac{\\partial z_5}{\\partial W_2} = \\begin{pmatrix} 0.153070257 & 0.1543766151 \\\\ 0.236558051 & 0.2385769247 \\end{pmatrix} \\frac{\\partial z_5}{\\partial W_1} = \\begin{pmatrix} 0.00396782 & 0.01587129 & 0.01983912 \\\\ 0.00080858 & 0.00323431 & 0.00404289 \\end{pmatrix}$$\n",
    "\n",
    "$$ \\frac{\\partial z_5}{\\partial b_2} = \\begin{pmatrix} 0.1551472 & 0.2397678 \\end{pmatrix} \\frac{\\partial z_5}{\\partial b_1} = \\begin{pmatrix} 0.00396782 & 0.00080858 \\end{pmatrix} $$\n",
    "\n",
    "3. Now we will perform the SGD step with $\\alpha = 0.01$:\n",
    "\n",
    "$$ W_{1_{new}} = W_1 - \\alpha \\cdot \\frac{\\partial z_5}{\\partial W_1} = \\begin{pmatrix} 0.1 & 0.3 & 0.5 \\\\ 0.2 & 0.4 & 0.6 \\end{pmatrix} - 0.01\\cdot \\begin{pmatrix} 0.00396782 & 0.01587129 & 0.01983912 \\\\ 0.00080858 & 0.00323431 & 0.00404289 \\end{pmatrix} = \\begin{pmatrix} 0.0999603218 & 0.2998412871 & 0.4998016088 \\\\ 0.1999919142 & 0.3999676569 & 0.5999595711 \\end{pmatrix}$$\n",
    "\n",
    "$$ W_{2_{new}} = W_2 - \\alpha \\cdot \\frac{\\partial z_5}{\\partial W_2} = \\begin{pmatrix} 0.7 & 0.9 \\\\ 0.8 & 0.1 \\end{pmatrix} - 0.01 \\cdot \\begin{pmatrix} 0.153070257 & 0.1543766151 \\\\ 0.236558051 & 0.2385769247 \\end{pmatrix} = \\begin{pmatrix} 0.6984692974 & 0.8984562338 \\\\ 0.7976344195 & 0.9761423075 \\end{pmatrix} $$\n",
    "\n",
    "$$ b_{1_{new}} = b_1 - \\alpha \\cdot \\frac{\\partial z_5}{\\partial b_1} ^ T = \\begin{pmatrix} 0.5 \\\\ 0.5 \\end{pmatrix} - 0.01 \\cdot \\begin{pmatrix} 0.00396782 \\\\ 0.00080858 \\end{pmatrix} = \\begin{pmatrix} 0.4999603218 \\\\ 0.4999919142 \\end{pmatrix} $$\n",
    "$$ b_{1_{new}} = b_1 - \\alpha \\cdot \\frac{\\partial z_5}{\\partial b_2} ^ T = \\begin{pmatrix} 0.5 \\\\ 0.5 \\end{pmatrix} - 0.01 \\cdot \\begin{pmatrix} 0.1551472 \\\\ 0.2397678 \\end{pmatrix} = \\begin{pmatrix} 0.498448528 \\\\ 0.497602322 \\end{pmatrix} $$"
   ],
   "metadata": {
    "collapsed": false
   }
  },
  {
   "cell_type": "markdown",
   "metadata": {
    "id": "RsqSFZG1pGhj"
   },
   "source": [
    "## <img src=\"https://img.icons8.com/clouds/100/000000/question-mark.png\" style=\"height:50px;display:inline\"> Question 3 - Deep Double Descent\n",
    "---\n",
    "\n",
    "For the following plots:\n",
    "1. Where is the critical point (the point of transition between the \"Classical Regime\" and \"Modern Regime\") of the deep double descent?\n",
    "2. What type of double descent is shown (**look closely at the graph**)? Explain. There can be more than one correct answer.\n",
    "    \n",
    "\n",
    "a. <img src='https://raw.githubusercontent.com/taldatech/ee046211-deep-learning/main/assets/double_descent_transformer.PNG' style=\"height:300px\">\n",
    "\n",
    "b. <img src='https://raw.githubusercontent.com/taldatech/ee046211-deep-learning/main/assets/double_descent_resnet.PNG' style=\"height:400px\">\n",
    "\n",
    "c. <img src='https://raw.githubusercontent.com/taldatech/ee046211-deep-learning/main/assets/double_descent_intermediate.PNG' style=\"height:300px\">"
   ]
  },
  {
   "cell_type": "markdown",
   "source": [
    "# Question 3 - Answer\n",
    "\n",
    "##3.2 graph 3\n",
    "the type of double descent here is epoch wise double descent, across different width parameter.\n",
    "* a.\n",
    "![Graph A](https://raw.githubusercontent.com/Itamarnierenberg/046211-Deep-Learning/main/assets/double_descent_graph_a.png?token=GHSAT0AAAAAACCKNRNEGYZXQHRFT2S2XCAAZCXTGRQ)\n",
    "1. we have 2 different architectures compared. for the De-En model,the critical point is obtained when the transformer model size has approximately 200 embedding dimensions.The En-Fr has critical point when the transformer model size has approximately 300 embedding dimensions. as we can see the training loss is monotonic decreasing. not surprising.\n",
    "2. the type of double descent here is model wise double descent, across different architectures, and different transformer model size.\n",
    "* b.\n",
    "![Graph B](https://raw.githubusercontent.com/Itamarnierenberg/046211-Deep-Learning/main/assets/double_descent_graph_b.png?token=GHSAT0AAAAAACCKNRNE6T2SOQG7TVJ57LH2ZCXTIDQ)\n",
    "1. in the 2nd graph, with 0% label noise, the critical point obtained at width parameter = 9, with 10% label noise, the critical point obtained at width parameter = 11, with 20% label noise, the critical point obtained at width parameter = 13. as we can see when the labels are noisy, the train error will increase.\n",
    "2. the type of double descent here is sample wise double descent, accross different width parameter, and with noisy labels.\n",
    "* c.\n",
    "![Graph C](https://raw.githubusercontent.com/Itamarnierenberg/046211-Deep-Learning/main/assets/double_descent_graph_c.png?token=GHSAT0AAAAAACCKNRNFGLE4HJVSPEXHEVIYZCXTJIQ)\n",
    "1. in the 3rd graph, in the slice where the width parameter = 64, the critical point obtained at epoch = 70, in the slice where width parameter = 12, there is no critical point, in the slice where width parameter = 3, there is no critical point. as we can see for a medium model size we have a region where the error is big, just as we have seen in graphs 1,2.\n",
    "2. the type of double descent here is epoch wise double descent, across different width parameter."
   ],
   "metadata": {
    "collapsed": false
   }
  },
  {
   "cell_type": "markdown",
   "metadata": {
    "id": "RsqSFZG1pGhj"
   },
   "source": [
    "## <img src=\"https://img.icons8.com/clouds/100/000000/question-mark.png\" style=\"height:50px;display:inline\"> Question 4 - Initialization\n",
    "---\n",
    "Recall that in lecture 5 we were discussing how to calculate the initialization variance, and reached the conclusion that $$ \\sigma_l =\\frac{1}{\\sqrt{\\sum_j \\mathbb{E} \\left[\\varphi^2(u_{l-1}[j])\\right]}} $$\n",
    "Show that for ReLU activation ($\\varphi(z) = max(0,z)$), the optimal variance satisfies: $$ \\sigma_l = \\sqrt{\\frac{2}{d_{l-1}}}$$\n",
    "\n",
    "1. Under the assumption that the distribution of $W$ is symmetric ($\\to$ the distribution of $u$ is symmetric).\n",
    "2. Using the central limit theorem for large width.\n",
    "\n",
    "Answer each section **separately** and assume the sections are independent.\n",
    "\n",
    "All the notations are the same as in the lecture slides."
   ]
  },
  {
   "cell_type": "markdown",
   "source": [
    "# Question 4 - Answer\n",
    "We'll calculate $\\sum_j \\mathbb{E} \\left[\\varphi^2(u_{l-1}[j])\\right] $ for the ReLU activation\n",
    "\n",
    "$$ \\sum_j \\mathbb{E} \\left[\\varphi^2(u_{l-1}[j])\\right] = \\sum_j \\mathbb{E} \\left[(\\max \\{0, u_{l-1}[j])^2\\right] =\n",
    " \\sum_j \\mathbb{E}[ \\mathbb{E} \\left[(\\max \\{0, u_{l-1}[j])^2 | u_{l-1}[j]\\right]] =\n",
    " \\sum_j (p(u_{l-1}[j] \\leq 0) \\cdot 0 + p(u_{l-1}[j] < 0) \\cdot \\mathbb{E} \\left[(u_{l-1}[j]^2)\\right] = $$\n",
    " $$ \\sum_j p(u_{l-1}[j] > 0) \\cdot \\mathbb{E} \\left[(u_{l-1}[j]^2)\\right] $$\n",
    "\n",
    "1. Now if we will assume that the distribution of $u$ is symmetric, and from what we've seen in the lecture that $ \\mathbb{E} \\left[(u_{l-1}[j])\\right] = 0 $ Which holds if $ \\mathbb{E} \\left[W\\right] = 0 $\n",
    "We can conclude that $ p(u_{l-1}[j] > 0) = 1/2 $\n",
    "Therefor under the assumption of symmetric distribution and that $\\mathbb{E} \\left[(u_{l-1}[j]^2)\\right] = 1$:\n",
    "$$ \\sum_j p(u_{l-1}[j] > 0) \\cdot \\mathbb{E} \\left[(u_{l-1}[j]^2)\\right] =  \\sum_j \\frac{1}{2} = \\frac{d_{l-1}}{2} \\Rightarrow$$\n",
    "$$\\Rightarrow \\sigma_l = \\sqrt{\\frac{2}{d_{l-1}}}$$\n",
    "\n",
    "2. Using the central limit theorem for large width we can determine that $u_{l-1}[j]$ is approximately distributed as a Gaussian Random Variable.\n",
    "Meaning that $u_{l-1}[j] \\sim \\mathcal{N} (0,1)$ and this Gaussian distribution is also symmetrical which leads us to the same result of 1.\n",
    "\n",
    "$$ \\sum_j p(u_{l-1}[j] > 0) \\cdot \\mathbb{E} \\left[(u_{l-1}[j]^2)\\right] =  \\sum_j \\frac{1}{2} = \\frac{d_{l-1}}{2} \\Rightarrow$$\n",
    "$$\\Rightarrow \\sigma_l = \\sqrt{\\frac{2}{d_{l-1}}}$$"
   ],
   "metadata": {
    "collapsed": false
   }
  },
  {
   "cell_type": "markdown",
   "metadata": {
    "id": "RsqSFZG1pGhj"
   },
   "source": [
    "## <img src=\"https://img.icons8.com/clouds/100/000000/question-mark.png\" style=\"height:50px;display:inline\"> Question 5 - MLP and Invaraince\n",
    "---\n",
    "\n",
    "You have to design an MLP with the following input: DNA sequences of length $d$. The DNA is a sequence of bases, where each base can be one of 4 options: $(C, T, G, A)$. Thus, the input can be described as the following matrix: $$ X \\in \\mathcal{R}^{4 \\times d}, $$ where $X[j,i]$ denotes the measured value of base concentration of the $j^{th}$ base at location $i$. \n",
    "\n",
    "The network should output a **binary** classification $y \\in \\{-1, 1\\}$ for a specific property we wish to find. The network will be trained on samples $\\{X^{(n)}, y^{(n)} \\}_{n=1}^{N}$, with a **logistic loss function**.\n",
    "\n",
    "First, we will examine a network with 1 hidden layerof size $4 \\times d$ and a **LeakyReLU** activation $\\phi$: $$ f_w(X) = \\sum_{r=1}^{4}\\sum_{k=1}^d W_2[r,k]\\phi\\left(\\sum_{j=1}^{4}\\sum_{i=1}^d W_1[r, k,j, i]X[j, i] \\right),$$ where $w=\\{W_1, W_2\\}$ are the layers of the weight **tensors**. After training is done, the classification will be done with $\\text{sign}(f(X))$.\n",
    "\n",
    "1. Which invariances exist in the network's parameters?\n",
    "2. Now, we notice the fact that: the *direction* in which the DNA is scanned is arbitrary. Thus, if for two inputs $X, \\tilde{X}$: $$ \\forall i,j: \\: X[j,i] = \\tilde{X}[j, d-i+1], $$ then the two inputs are **equivalent** in their meaning. What constraints should we put on the network's parameters to improve the network's classification performance? Explain why using an **invariant hidden layer** is not optimal.\n",
    "3. After that, we now recall that the DNA bases come in pairs, and thus if for two inputs $X, \\tilde{X}$: $$ \\forall i,j : \\: X[j,i] = \\tilde{X}[(4-j)\\text{mod}4 + 1,i] = \\tilde{X}[5-j,i], $$ then the two inputs are **equivalent** in their meaning. What constraints should we put on the network's parameters to improve the network's classification performance?\n",
    "4. We now notice that the measurement process in noisy, each sample $X^{(n)}$ is in arbitrary scale, and thus if for two $X, \\tilde{X}$: $$ \\forall i,j: \\: X[j,i] = c\\tilde{X}[j,i], $$ for some constant $c>0$, then the two inputs are **equivalent** in their meaning.\n",
    "    * (a) For the given network, that **is already trained**, what is the effect of the scale $c$ on the classification result?\n",
    "    * (b) Can the arbitrary scale hurt the training process? Hint: think what happens to the gradient of each sample.\n",
    "    * (c) How can use this information to improve the classifier performance?"
   ]
  },
  {
   "cell_type": "markdown",
   "source": [
    "# Question 5 - Answer\n",
    "\n",
    "**Section 1**\n",
    "--\n",
    "\n",
    "The network has rescaled symmetry because we have LeakyReLU activation function.  Translation invariance doesn't\n",
    "exist in binary classification because the activation at the end is logistic function which is not normalized thus, has no\n",
    "translation invariance as happens in softmax\n",
    "\n",
    "\n",
    "**Section 2**\n",
    "--\n",
    "$$ f_w(X) = \\sum_{r=1}^{4}\\sum_{k=1}^d W_2[r,k]\\phi\\left(\\sum_{j=1}^{4}\\sum_{i=1}^d W_1[r, k,j, i]X[j, i] \\right)=f_w(\\tilde{X})= \\sum_{r=1}^{4}\\sum_{k=1}^d W_2[r,k]\\phi\\left(\\sum_{j=1}^{4}\\sum_{i=1}^d W_1[r, k,j, i]\\tilde{X}[j, i] \\right)$$\n",
    "\n",
    "$$=_{index-shifting:p=d-i+1}\\sum_{r=1}^{4}\\sum_{k=1}^d W_2[r,k]\\phi\\left(\\sum_{j=1}^{4}\\sum_{p=1}^d W_1[r, k,j,d-p+1]\\tilde{X}[j, d-p+1] \\right)$$\n",
    "$$=_{p→i}\\sum_{r=1}^{4}\\sum_{k=1}^d W_2[r,k]\\phi\\left(\\sum_{j=1}^{4}\\sum_{i=1}^d W_1[r, k,j,d-i+1]X[j, i] \\right)$$\n",
    "\n",
    "\n",
    "assuming $X[j, i]$ orthogonal, lets compare coefficients and we will get:\n",
    "\n",
    "# $$W_1[r, k,j,i]= W_1[r, k,j,d-i+1] $$\n",
    "\n",
    "Using an invariant hidden layer is not optimal because it fails to capture the reverse symmetry present in the DNA sequences X.\n",
    "it happens because if the hidden layer is invariant, it means that it treats ${X}$ and $\\tilde{X}$ as equivalent inputs and produces the same output and therefore after that layer we wont be able to tell if the input were ${X}$ or $\\tilde{X}$ and it might matter.\n",
    "\n",
    "\n",
    "**Section 3**\n",
    "--\n",
    "$$ f_w(X) = \\sum_{r=1}^{4}\\sum_{k=1}^d W_2[r,k]\\phi\\left(\\sum_{j=1}^{4}\\sum_{i=1}^d W_1[r, k,j, i]X[j, i] \\right)=f_w(\\tilde{X})= \\sum_{r=1}^{4}\\sum_{k=1}^d W_2[r,k]\\phi\\left(\\sum_{j=1}^{4}\\sum_{i=1}^d W_1[r, k,j, i]\\tilde{X}[j, i] \\right)$$\n",
    "\n",
    "$$=_{index-shifting:p=5-j}\\sum_{r=1}^{4}\\sum_{k=1}^d W_2[r,k]\\phi\\left(\\sum_{p=1}^{4}\\sum_{i=1}^d W_1[r, k,5-p,i]\\tilde{X}[5-p, i] \\right)$$\n",
    "$$=_{p→j}\\sum_{r=1}^{4}\\sum_{k=1}^d W_2[r,k]\\phi\\left(\\sum_{j=1}^{4}\\sum_{i=1}^d W_1[r, k,5-j,i]X[j, i] \\right)$$\n",
    "\n",
    "\n",
    "assuming $X[j, i]$ orthogonal, lets compare coefficients and we will get:\n",
    "\n",
    "# $$W_1[r, k,j,i]= W_1[r, k,5-j,i] $$\n",
    "\n",
    "**Section 4**\n",
    "--\n",
    "(a). For the given network, that **is already trained**, there is an effect of the scale $c$ on the classification result.\n",
    "for example if X classified as 1 and $\\tilde{X}$ classified as -1 scaling $\\tilde{X}$ by the factor $c$ may result in a wrong classification. no good.\n",
    "(b). the arbitrary scale will not hurt the training process. the reason is the when we calculate gradients with backpropogation the scale factor c cancels.\n",
    "(c). since scaling by c will not ruin our training process we can use it as transformer to get more robust model"
   ],
   "metadata": {
    "collapsed": false
   }
  },
  {
   "cell_type": "markdown",
   "metadata": {
    "id": "RsqSFZG1pGhj"
   },
   "source": [
    "## <img src=\"https://img.icons8.com/clouds/100/000000/question-mark.png\" style=\"height:50px;display:inline\"> Question 6 -VGG Architecture\n",
    "---\n",
    "\n",
    "1. The VGG-11 CNN architecture consists of 11 convolution (CONV)/fully-connected (FC) layers (every CONV layer has the same padding and stride, every MAXPOOL layer is 2×2 and has padding of 0 and stride 2). Fill in the table. You need to **consider the bias**.\n",
    "\n",
    "\n",
    "* CONV$M$-$N$: a convolutional layer of size $M \\times M \\times N$, where $M$ is the kernel size and $N$ is the number of filters. $stride=1, padding=1$. \n",
    "* POOL2: $2 \\times 2$ Max Pooling with $stride=2$\n",
    "    * In case the input of the layer is odd, you should round down. For example, if the output of the layer should be $3.5 \\times 3.5 \\times 3$, you should round to $3 \\times 3 \\times 3$ (i.e., ignore the last column of the input image when performing MaxPooling).\n",
    "* FC-N: a fully connected layer with $N$ neurons.\n",
    "\n",
    "\n",
    "| Layer  | Output Dimension  | Number of Parameters (Weights) |\n",
    "|---|---|---|\n",
    "| INPUT  |  224x224x3 | 0  |\n",
    "|  CONV3-64 | -  | -  | \n",
    "| ReLU |  - | -  |\n",
    "| POOL2|  - | -  |\n",
    "|CONV3-128 | - | -|\n",
    "|ReLU | - | -|\n",
    "| POOL2|  - | -  |\n",
    "|CONV3-256 | - | -|\n",
    "|ReLU | - | -|\n",
    "|CONV3-256 | - | -|\n",
    "|ReLU | - | -|\n",
    "| POOL2|  - | -  |\n",
    "|CONV3-512 | - | -|\n",
    "|ReLU | - | -|\n",
    "|CONV3-512 | - | -|\n",
    "|ReLU | - | -|\n",
    "| POOL2|  - | -  |\n",
    "|CONV3-512 | - | -|\n",
    "|ReLU | - | -|\n",
    "|CONV3-512 | - | -|\n",
    "|ReLU | - | -|\n",
    "| POOL2|  - | -  |\n",
    "| FC-4096|  - | -  |\n",
    "| FC-4096|  - | -  |\n",
    "| FC-1000|  - | -  |\n",
    "| SOFTMAX|  - | -  |\n",
    "\n",
    "2. What is the total number of parameters? (use a calculator for this one)\n",
    "3. What percentage of the weights are found in the fully-connected layers?"
   ]
  },
  {
   "cell_type": "markdown",
   "metadata": {
    "id": "7D-14iM7pGhm"
   },
   "source": [
    "### <img src=\"https://img.icons8.com/officel/80/000000/code.png\" style=\"height:50px;display:inline\"> Part 2 - Code Assignments\n",
    "---\n",
    "* You must write your code in this notebook and save it with the output of all of the code cells.\n",
    "* Additional text can be added in Markdown cells.\n",
    "* You can use any other IDE you like (PyCharm, VSCode...) to write/debug your code, but for the submission you must copy it to this notebook, run the code and save the notebook with the output."
   ]
  },
  {
   "cell_type": "markdown",
   "metadata": {},
   "source": [
    "#### Tips\n",
    "---\n",
    "1. Uniformly distributed tensors - `torch.Tensor(dim1, dim2, ...,dimN).uniform_(-1, 1)`\n",
    "2. Separation to **validation set** in PyTorch - <a href=\"https://gist.github.com/MattKleinsmith/5226a94bad5dd12ed0b871aed98cb123\">See example here</a>."
   ]
  },
  {
   "cell_type": "code",
   "execution_count": 16,
   "metadata": {
    "slideshow": {
     "slide_type": "skip"
    },
    "ExecuteTime": {
     "end_time": "2023-05-23T16:50:41.056184Z",
     "start_time": "2023-05-23T16:50:41.023620Z"
    }
   },
   "outputs": [
    {
     "data": {
      "text/plain": "<torch._C.Generator at 0x7f9160b90408>"
     },
     "execution_count": 16,
     "metadata": {},
     "output_type": "execute_result"
    }
   ],
   "source": [
    "# imports for the practice (you can add more if you need)\n",
    "\n",
    "import numpy as np\n",
    "import pandas as pd\n",
    "import torch\n",
    "import torch.nn as nn\n",
    "from torch.utils.data import TensorDataset, DataLoader\n",
    "import torchvision\n",
    "import torchvision.transforms as transforms\n",
    "import torchvision.datasets as datasets\n",
    "import matplotlib.pyplot as plt\n",
    "from sklearn.linear_model import LogisticRegression\n",
    "from kornia import augmentation as k\n",
    "from kornia.augmentation import AugmentationSequential\n",
    "import random\n",
    "# %matplotlib notebook\n",
    "%matplotlib inline\n",
    "\n",
    "seed = 211\n",
    "np.random.seed(seed)\n",
    "torch.manual_seed(seed)"
   ]
  },
  {
   "cell_type": "markdown",
   "metadata": {
    "slideshow": {
     "slide_type": "slide"
    }
   },
   "source": [
    "### <img src=\"https://img.icons8.com/color/48/000000/code.png\" style=\"height:50px;display:inline\"> Task 1 - The Importance of Activation and Initialization\n",
    "---\n",
    "In this task, we are going to use $x \\in \\mathcal{R}^{512}$ and simple neural network that outputs $f(x) \\in \\mathcal{R}^{512}$. The network will have 100 layers with 512 units in each layer.\n",
    "\n",
    "1. We initialize the weights from a unit normal distribution. Run the following code cell and explain what happens. Add a short piece of code that locates when it happens (hint: use `torch.isnan()`). **Print** the layer number.\n",
    "2. We can demonstrate that at a given layer, the matrix product of inputs $x$ and weight matrix $a$ that is initialized from a standard normal distribution will, on average, have a standard deviation very close to the square root of the number of input connections. For our example, with 512 dimensions, show that for 10,000 multiplications of $a$ and $x$, the empirical standard deviation is similar to the square root of the number of input connections. Use the unbiased version: $$ \\hat{std} = \\sqrt{\\frac{\\sum_{i=1}^{10000}\\frac{1}{N}\\sum_{j=1}^N y^2}{10000}}, $$ where $y=ax$ and $N$ is the number of input connections. **Print** the mean, std and the square root of the number of input connections.\n",
    "3. For the code from 1, normalize the weight initialization by the square root of the input connections. How does that change the outcome? **Print** the mean and std after the modification.\n",
    "4. Add a `tanh()` activation after each layer for the code from 1. **Print** the mean and std after the modification. Explain the result.\n",
    "5. Xavier initialization sets a layer’s weights to values chosen from a random uniform distribution that’s bounded between $$\\pm \\sqrt{\\frac{6}{n_i + n_{i+1}}}$$ where $n_i$ is the number of incoming network connections, or “fan-in,” to the layer, and $ n_{i+1}$ is the number of outgoing network connections from that layer, also known as the “fan-out”. Glorot and Bengio believed that Xavier weight initialization would maintain the variance of activations and back-propagated gradients all the way up or down the layers of a network and demonstrated that networks initialized with Xavier achieved substantially quicker convergence and higher accuracy. Implement **Xavier Uniform** as `xavier_init(fan_in, fan_out)`, a function that returns a tensor initialized according to **Xavier Uniform**. Use it on the simple network from 1 with `tanh` activation. **Print** the mean and std after the modification.\n",
    "6. If you try to replace the `tanh` activation with `relu` activation in section 5, you will see very different results. Xavier strives to acheive activation outputs of each layer to have a mean of 0 and a standard deviation around 1, on average. When using a ReLU activation, a single layer will, on average have standard deviation that’s very close to the square root of the number of input connections, **divided by the square root of two** ($\\sqrt{\\frac{512}{2}}$ in our example). **Kaiming He et. al.** proposed an initialization scheme that’s tailored for deep neural nets that use these kinds of asymmetric, non-linear activations. Implement **Kaiming Normal** as `kaiming_init(fan_in, fan_out)`, a function that returns a tensor initialized according to **Kaiming Normal** (use `fan_in` mode). Use it on the simple network from 1 with `relu` activation. **Print** the mean and std after the modification. What happens when you use Xavier with RelU activation?"
   ]
  },
  {
   "cell_type": "code",
   "execution_count": 17,
   "metadata": {
    "slideshow": {
     "slide_type": "subslide"
    },
    "ExecuteTime": {
     "end_time": "2023-05-23T16:50:41.386484Z",
     "start_time": "2023-05-23T16:50:41.030306Z"
    }
   },
   "outputs": [
    {
     "name": "stdout",
     "output_type": "stream",
     "text": [
      "All x values are NaN at iteration number = 29\n",
      "tensor(nan) tensor(nan)\n"
     ]
    }
   ],
   "source": [
    "x = torch.randn(512)\n",
    "is_nan = False\n",
    "for i in range(100):\n",
    "    a = torch.randn(512, 512)\n",
    "    x = a @ x\n",
    "    if False in torch.isnan(x):\n",
    "        continue\n",
    "    elif not is_nan:\n",
    "        is_nan = True\n",
    "        print(f\"All x values are NaN at iteration number = {i}\")\n",
    "print(x.mean(), x.std())"
   ]
  },
  {
   "cell_type": "markdown",
   "metadata": {},
   "source": [
    "# Task 1 - Answer\n",
    "1. What happend is that the vector x was reduced to NaN values, this happend because $ a \\sim \\mathcal{U}[-1,1] $ and $ x \\sim \\mathcal{U}[-1,1] $, And each layer of the network is a linear layer that performs $ h = ax $ but each value of a is between -1 and 1 and each value of x is between -1 and 1 so as we go deeper into the layers, x values continue to be reduced by the a values until finally the numerical representation of x isn't possible via this computer so it is reduced to NaN values, and we can see that in layer 29 we first get that *ALL* of x's values are NaN"
   ]
  },
  {
   "cell_type": "code",
   "execution_count": 18,
   "metadata": {
    "ExecuteTime": {
     "end_time": "2023-05-23T16:50:41.386748Z",
     "start_time": "2023-05-23T16:50:41.379221Z"
    }
   },
   "outputs": [],
   "source": [
    "def approx_std(a, x, mul=10000):\n",
    "    sum = 0\n",
    "    for i in range (mul):\n",
    "        for j in range(len(x)):\n",
    "            sum += (1 / len(x)) * ((a[i] * x[j])^2)\n",
    "    return np.sqrt(sum/len(x))\n"
   ]
  },
  {
   "cell_type": "markdown",
   "metadata": {
    "slideshow": {
     "slide_type": "slide"
    }
   },
   "source": [
    "### <img src=\"https://img.icons8.com/color/48/000000/code.png\" style=\"height:50px;display:inline\"> Task 2 - MLP-based Deep Classifer\n",
    "---\n",
    "In this task you are going to design and train your first neural network for classification.\n",
    "\n",
    "For this task, we will use the \"<a href=\"https://archive.ics.uci.edu/ml/datasets/MAGIC+Gamma+Telescope\">MAGIC Gamma Telescope Data Set\"</a>. Cherenkov gamma telescope observes high energy gamma rays, taking advantage of the radiation emitted by charged particles produced inside the electromagnetic showers initiated by the gammas, and developing in the atmosphere. This Cherenkov radiation (of visible to UV wavelengths) leaks through the atmosphere and gets recorded in the detector, allowing reconstruction of the shower parameters. The available information consists of pulses left by the incoming Cherenkov photons on the photomultiplier tubes, arranged in a plane, the camera. \n",
    "\n",
    "Depending on the energy of the primary gamma, a total of few hundreds to some 10000 Cherenkov photons get collected, in patterns (called the shower image), allowing to discriminate statistically those caused by primary gammas (**signal**) from the images of hadronic showers initiated by cosmic rays in the upper atmosphere (**background**).\n",
    "\n",
    "Our data has 10 features and 2 classes (signal and background).\n",
    "\n",
    "1. Load the MAGIC dataset sored in `magic04.data` and display the first 5 features (just run the cell).\n",
    "2. Separate the data to train, validation and test, reserve 10% of the data for validation and 20% for test.\n",
    "3. Perform pre-processing steps of your choice and convert the class label from `str` to `int` (for example, `y_train = np.array([0 if y_train[i] == 'g' else 1 for i in range(len(y_train))]).astype(np.int)`).\n",
    "4. Train a Logistic Regression model from `sklearn` as a baseline for our neural network (only for this section use both the train and validation sets for training the classifier). **Print the test accuracy**.\n",
    "5. Convert the `numpy` arrays to `torch` tensors with `TensorDataset` as done in the tutorial.\n",
    "6. Design a **MLP** to classify the data. Optimize the hyper-parameters of your model using the accuracy on the validation set, and when you are satisfied with the model train it on both the train and validation sets and evaluate it on the test set. **You need to reach at least 85% accuracy on the test set, and 87% for a full grade**.\n",
    "    * You have a free choice of architecture, optimizer, learning scheduler, initialization, regularization and activations.\n",
    "    * The loss criterion is binary cross entropy: `nn.BCEWithLogitsLoss()` (performs `sigmoid` for you) or `nn.BCELoss` (you need to apply `sigmoid` on the network output yourself).\n",
    "    * In a Markdown block, write down the chosen architectures and all the hyper-parameters.\n",
    "        * Make sure to describe any design choice that you used to improve the performance (e.g. if you used a certain regularization or layer, mention it and describe why you think it helped).\n",
    "    * **Plot** the loss curves (and any oter statistic you want) as a function of epochs/iterations. **Print** the final performance.\n",
    "    * **Print** the test accuracy.\n",
    "3. Change the initialization of the linear layers and re-train the model (with the same optimal hyper-parameters you found). You can pick an initialization of your choosing from : https://pytorch.org/docs/stable/nn.init.html . See example below how to use. **Print** the change in accuracy."
   ]
  },
  {
   "cell_type": "code",
   "execution_count": 19,
   "metadata": {
    "ExecuteTime": {
     "end_time": "2023-05-23T16:50:41.421057Z",
     "start_time": "2023-05-23T16:50:41.386125Z"
    }
   },
   "outputs": [
    {
     "data": {
      "text/plain": "    fLength    fWidth   fSize   fConc  fConc1     fAsym  fM3Long  fM3Trans  \\\n0   28.7967   16.0021  2.6449  0.3918  0.1982   27.7004  22.0110   -8.2027   \n1   31.6036   11.7235  2.5185  0.5303  0.3773   26.2722  23.8238   -9.9574   \n2  162.0520  136.0310  4.0612  0.0374  0.0187  116.7410 -64.8580  -45.2160   \n3   23.8172    9.5728  2.3385  0.6147  0.3922   27.2107  -6.4633   -7.1513   \n4   75.1362   30.9205  3.1611  0.3168  0.1832   -5.5277  28.5525   21.8393   \n\n    fAlpha     fDist class  \n0  40.0920   81.8828     g  \n1   6.3609  205.2610     g  \n2  76.9600  256.7880     g  \n3  10.4490  116.7370     g  \n4   4.6480  356.4620     g  ",
      "text/html": "<div>\n<style scoped>\n    .dataframe tbody tr th:only-of-type {\n        vertical-align: middle;\n    }\n\n    .dataframe tbody tr th {\n        vertical-align: top;\n    }\n\n    .dataframe thead th {\n        text-align: right;\n    }\n</style>\n<table border=\"1\" class=\"dataframe\">\n  <thead>\n    <tr style=\"text-align: right;\">\n      <th></th>\n      <th>fLength</th>\n      <th>fWidth</th>\n      <th>fSize</th>\n      <th>fConc</th>\n      <th>fConc1</th>\n      <th>fAsym</th>\n      <th>fM3Long</th>\n      <th>fM3Trans</th>\n      <th>fAlpha</th>\n      <th>fDist</th>\n      <th>class</th>\n    </tr>\n  </thead>\n  <tbody>\n    <tr>\n      <th>0</th>\n      <td>28.7967</td>\n      <td>16.0021</td>\n      <td>2.6449</td>\n      <td>0.3918</td>\n      <td>0.1982</td>\n      <td>27.7004</td>\n      <td>22.0110</td>\n      <td>-8.2027</td>\n      <td>40.0920</td>\n      <td>81.8828</td>\n      <td>g</td>\n    </tr>\n    <tr>\n      <th>1</th>\n      <td>31.6036</td>\n      <td>11.7235</td>\n      <td>2.5185</td>\n      <td>0.5303</td>\n      <td>0.3773</td>\n      <td>26.2722</td>\n      <td>23.8238</td>\n      <td>-9.9574</td>\n      <td>6.3609</td>\n      <td>205.2610</td>\n      <td>g</td>\n    </tr>\n    <tr>\n      <th>2</th>\n      <td>162.0520</td>\n      <td>136.0310</td>\n      <td>4.0612</td>\n      <td>0.0374</td>\n      <td>0.0187</td>\n      <td>116.7410</td>\n      <td>-64.8580</td>\n      <td>-45.2160</td>\n      <td>76.9600</td>\n      <td>256.7880</td>\n      <td>g</td>\n    </tr>\n    <tr>\n      <th>3</th>\n      <td>23.8172</td>\n      <td>9.5728</td>\n      <td>2.3385</td>\n      <td>0.6147</td>\n      <td>0.3922</td>\n      <td>27.2107</td>\n      <td>-6.4633</td>\n      <td>-7.1513</td>\n      <td>10.4490</td>\n      <td>116.7370</td>\n      <td>g</td>\n    </tr>\n    <tr>\n      <th>4</th>\n      <td>75.1362</td>\n      <td>30.9205</td>\n      <td>3.1611</td>\n      <td>0.3168</td>\n      <td>0.1832</td>\n      <td>-5.5277</td>\n      <td>28.5525</td>\n      <td>21.8393</td>\n      <td>4.6480</td>\n      <td>356.4620</td>\n      <td>g</td>\n    </tr>\n  </tbody>\n</table>\n</div>"
     },
     "execution_count": 19,
     "metadata": {},
     "output_type": "execute_result"
    }
   ],
   "source": [
    "# loading the data\n",
    "col_names = ['fLength', 'fWidth', 'fSize', 'fConc', 'fConc1', 'fAsym',  'fM3Long', 'fM3Trans', 'fAlpha', 'fDist', 'class']\n",
    "feature_names = ['fLength', 'fWidth', 'fSize', 'fConc', 'fConc1', 'fAsym',  'fM3Long', 'fM3Trans', 'fAlpha', 'fDist']\n",
    "data = pd.read_csv(\"./magic04.data\", names=col_names)\n",
    "X = data[feature_names]\n",
    "Y = data['class']\n",
    "data.head()"
   ]
  },
  {
   "cell_type": "code",
   "execution_count": 20,
   "metadata": {
    "ExecuteTime": {
     "end_time": "2023-05-23T16:50:41.526193Z",
     "start_time": "2023-05-23T16:50:41.432809Z"
    }
   },
   "outputs": [],
   "source": [
    "# separate to train, test\n",
    "lengths = [int(len(data) * 0.7), int(len(data) * 0.1), int(len(data) * 0.2)]\n",
    "train_set, val_set, test_set = torch.utils.data.random_split(data, lengths)\n",
    "X_train = train_set.dataset.drop(['class'], axis=1)\n",
    "X_val = val_set.dataset.drop(['class'], axis=1)\n",
    "X_test = test_set.dataset.drop(['class'], axis=1)\n",
    "y_train = train_set.dataset['class']\n",
    "y_val = val_set.dataset['class']\n",
    "y_test = test_set.dataset['class']"
   ]
  },
  {
   "cell_type": "code",
   "execution_count": 21,
   "metadata": {
    "ExecuteTime": {
     "end_time": "2023-05-23T16:50:41.651864Z",
     "start_time": "2023-05-23T16:50:41.542790Z"
    }
   },
   "outputs": [],
   "source": [
    "# pre-processing and converting labels to integers\n",
    "y_train = np.array([0 if y_train[i] == 'g' else 1 for i in range(len(y_train))]).astype(np.int)\n",
    "y_val = np.array([0 if y_val[i] == 'g' else 1 for i in range(len(y_val))]).astype(np.int)\n",
    "y_test = np.array([0 if y_test[i] == 'g' else 1 for i in range(len(y_test))]).astype(np.int)\n",
    "X_train = np.array(X_train)\n",
    "X_val = np.array(X_val)\n",
    "X_test = np.array(X_test)\n",
    "y_train_np = np.concatenate((y_train, y_val))\n",
    "y_test_np = y_test\n",
    "X_train_prep = np.concatenate((X_train, X_val), axis=0)\n",
    "X_test_prep = X_test"
   ]
  },
  {
   "cell_type": "code",
   "execution_count": 22,
   "metadata": {
    "ExecuteTime": {
     "end_time": "2023-05-23T16:50:41.832635Z",
     "start_time": "2023-05-23T16:50:41.653792Z"
    }
   },
   "outputs": [
    {
     "name": "stdout",
     "output_type": "stream",
     "text": [
      "Number of mislabeled points 8022 out of 19020 total points.\n",
      "Logistic Regression Model accuracy = 0.7891167192429022\n"
     ]
    },
    {
     "name": "stderr",
     "output_type": "stream",
     "text": [
      "/Users/itamarnierenberg/opt/anaconda3/envs/deep_learn/lib/python3.6/site-packages/sklearn/linear_model/_logistic.py:765: ConvergenceWarning: lbfgs failed to converge (status=1):\n",
      "STOP: TOTAL NO. of ITERATIONS REACHED LIMIT.\n",
      "\n",
      "Increase the number of iterations (max_iter) or scale the data as shown in:\n",
      "    https://scikit-learn.org/stable/modules/preprocessing.html\n",
      "Please also refer to the documentation for alternative solver options:\n",
      "    https://scikit-learn.org/stable/modules/linear_model.html#logistic-regression\n",
      "  extra_warning_msg=_LOGISTIC_SOLVER_CONVERGENCE_MSG)\n"
     ]
    }
   ],
   "source": [
    "# training a Logistic Regression baseline - complete the code with your variables\n",
    "logstic_model = LogisticRegression(solver='lbfgs')\n",
    "model = logstic_model.fit(X_train_prep, y_train_np)\n",
    "y_pred = model.predict(X_train_prep)\n",
    "print(\"Number of mislabeled points %d out of %d total points.\"% ((y_train_np != y_pred).sum(), X_train.shape[0]))\n",
    "print(\"Logistic Regression Model accuracy =\" , logstic_model.score(X_test_prep, y_test_np))"
   ]
  },
  {
   "cell_type": "code",
   "execution_count": 14,
   "metadata": {
    "ExecuteTime": {
     "end_time": "2023-05-23T16:50:36.340294Z",
     "start_time": "2023-05-23T16:50:36.232843Z"
    }
   },
   "outputs": [],
   "source": [
    "# create TensorDataset from numpy arrays\n",
    "train_ds = TensorDataset(torch.from_numpy(X_train).float(), torch.from_numpy(y_train).float())\n",
    "val_ds = TensorDataset(torch.from_numpy(X_val).float(), torch.from_numpy(y_val).float())\n",
    "test_ds = TensorDataset(torch.from_numpy(X_test).float(), torch.from_numpy(y_test).float())"
   ]
  },
  {
   "cell_type": "code",
   "execution_count": 15,
   "metadata": {
    "ExecuteTime": {
     "end_time": "2023-05-23T16:50:38.914389Z",
     "start_time": "2023-05-23T16:50:36.239883Z"
    }
   },
   "outputs": [
    {
     "name": "stdout",
     "output_type": "stream",
     "text": [
      "epoch: 0 loss: 0.6606693371136984\n"
     ]
    },
    {
     "ename": "KeyboardInterrupt",
     "evalue": "",
     "output_type": "error",
     "traceback": [
      "\u001B[0;31m---------------------------------------------------------------------------\u001B[0m",
      "\u001B[0;31mKeyboardInterrupt\u001B[0m                         Traceback (most recent call last)",
      "\u001B[0;32m<ipython-input-15-6ab7d8cf0d31>\u001B[0m in \u001B[0;36m<module>\u001B[0;34m\u001B[0m\n\u001B[1;32m    100\u001B[0m \u001B[0;32mfor\u001B[0m \u001B[0mlr\u001B[0m \u001B[0;32min\u001B[0m \u001B[0mpossible_learning_rates\u001B[0m\u001B[0;34m:\u001B[0m\u001B[0;34m\u001B[0m\u001B[0;34m\u001B[0m\u001B[0m\n\u001B[1;32m    101\u001B[0m     \u001B[0;32mfor\u001B[0m \u001B[0mb_size\u001B[0m \u001B[0;32min\u001B[0m \u001B[0mpossible_batch_sizes\u001B[0m\u001B[0;34m:\u001B[0m\u001B[0;34m\u001B[0m\u001B[0;34m\u001B[0m\u001B[0m\n\u001B[0;32m--> 102\u001B[0;31m         \u001B[0mmy_model\u001B[0m \u001B[0;34m=\u001B[0m \u001B[0mtrain_model\u001B[0m\u001B[0;34m(\u001B[0m\u001B[0mtrain_ds\u001B[0m\u001B[0;34m,\u001B[0m \u001B[0mnum_features\u001B[0m\u001B[0;34m=\u001B[0m\u001B[0;36m10\u001B[0m\u001B[0;34m,\u001B[0m \u001B[0moutput_dim\u001B[0m\u001B[0;34m=\u001B[0m\u001B[0;36m1\u001B[0m\u001B[0;34m,\u001B[0m \u001B[0mbatch_size\u001B[0m\u001B[0;34m=\u001B[0m\u001B[0mb_size\u001B[0m\u001B[0;34m,\u001B[0m \u001B[0mlearning_rate\u001B[0m\u001B[0;34m=\u001B[0m\u001B[0mlr\u001B[0m\u001B[0;34m,\u001B[0m \u001B[0mnum_epochs\u001B[0m\u001B[0;34m=\u001B[0m\u001B[0;36m500\u001B[0m\u001B[0;34m)\u001B[0m\u001B[0;34m\u001B[0m\u001B[0;34m\u001B[0m\u001B[0m\n\u001B[0m\u001B[1;32m    103\u001B[0m         \u001B[0maccuracy\u001B[0m \u001B[0;34m=\u001B[0m \u001B[0mmy_model\u001B[0m\u001B[0;34m.\u001B[0m\u001B[0mcalc_accuracy\u001B[0m\u001B[0;34m(\u001B[0m\u001B[0mval_ds\u001B[0m\u001B[0;34m,\u001B[0m \u001B[0mb_size\u001B[0m\u001B[0;34m)\u001B[0m\u001B[0;34m\u001B[0m\u001B[0;34m\u001B[0m\u001B[0m\n\u001B[1;32m    104\u001B[0m         \u001B[0mresults\u001B[0m\u001B[0;34m.\u001B[0m\u001B[0mappend\u001B[0m\u001B[0;34m(\u001B[0m\u001B[0;34m(\u001B[0m\u001B[0mlr\u001B[0m\u001B[0;34m,\u001B[0m \u001B[0mb_size\u001B[0m\u001B[0;34m,\u001B[0m \u001B[0maccuracy\u001B[0m\u001B[0;34m)\u001B[0m\u001B[0;34m)\u001B[0m\u001B[0;34m\u001B[0m\u001B[0;34m\u001B[0m\u001B[0m\n",
      "\u001B[0;32m<ipython-input-15-6ab7d8cf0d31>\u001B[0m in \u001B[0;36mtrain_model\u001B[0;34m(train_set, num_features, output_dim, batch_size, learning_rate, num_epochs, plot, init_weights)\u001B[0m\n\u001B[1;32m     64\u001B[0m         \u001B[0mmodel\u001B[0m\u001B[0;34m.\u001B[0m\u001B[0mtrain\u001B[0m\u001B[0;34m(\u001B[0m\u001B[0;34m)\u001B[0m\u001B[0;34m\u001B[0m\u001B[0;34m\u001B[0m\u001B[0m\n\u001B[1;32m     65\u001B[0m         \u001B[0mepoch_losses\u001B[0m \u001B[0;34m=\u001B[0m \u001B[0;34m[\u001B[0m\u001B[0;34m]\u001B[0m\u001B[0;34m\u001B[0m\u001B[0;34m\u001B[0m\u001B[0m\n\u001B[0;32m---> 66\u001B[0;31m         \u001B[0;32mfor\u001B[0m \u001B[0mfeatures\u001B[0m\u001B[0;34m,\u001B[0m \u001B[0mtargets\u001B[0m \u001B[0;32min\u001B[0m \u001B[0mtrain_data_loader\u001B[0m\u001B[0;34m:\u001B[0m\u001B[0;34m\u001B[0m\u001B[0;34m\u001B[0m\u001B[0m\n\u001B[0m\u001B[1;32m     67\u001B[0m             \u001B[0mfeatures\u001B[0m \u001B[0;34m=\u001B[0m \u001B[0mfeatures\u001B[0m\u001B[0;34m.\u001B[0m\u001B[0mto\u001B[0m\u001B[0;34m(\u001B[0m\u001B[0mmodel\u001B[0m\u001B[0;34m.\u001B[0m\u001B[0mdevice\u001B[0m\u001B[0;34m)\u001B[0m\u001B[0;34m\u001B[0m\u001B[0;34m\u001B[0m\u001B[0m\n\u001B[1;32m     68\u001B[0m             \u001B[0mtargets\u001B[0m \u001B[0;34m=\u001B[0m \u001B[0mtargets\u001B[0m\u001B[0;34m.\u001B[0m\u001B[0mto\u001B[0m\u001B[0;34m(\u001B[0m\u001B[0mmodel\u001B[0m\u001B[0;34m.\u001B[0m\u001B[0mdevice\u001B[0m\u001B[0;34m)\u001B[0m\u001B[0;34m\u001B[0m\u001B[0;34m\u001B[0m\u001B[0m\n",
      "\u001B[0;32m~/opt/anaconda3/envs/deep_learn/lib/python3.6/site-packages/torch/utils/data/dataloader.py\u001B[0m in \u001B[0;36m__next__\u001B[0;34m(self)\u001B[0m\n\u001B[1;32m    519\u001B[0m             \u001B[0;32mif\u001B[0m \u001B[0mself\u001B[0m\u001B[0;34m.\u001B[0m\u001B[0m_sampler_iter\u001B[0m \u001B[0;32mis\u001B[0m \u001B[0;32mNone\u001B[0m\u001B[0;34m:\u001B[0m\u001B[0;34m\u001B[0m\u001B[0;34m\u001B[0m\u001B[0m\n\u001B[1;32m    520\u001B[0m                 \u001B[0mself\u001B[0m\u001B[0;34m.\u001B[0m\u001B[0m_reset\u001B[0m\u001B[0;34m(\u001B[0m\u001B[0;34m)\u001B[0m\u001B[0;34m\u001B[0m\u001B[0;34m\u001B[0m\u001B[0m\n\u001B[0;32m--> 521\u001B[0;31m             \u001B[0mdata\u001B[0m \u001B[0;34m=\u001B[0m \u001B[0mself\u001B[0m\u001B[0;34m.\u001B[0m\u001B[0m_next_data\u001B[0m\u001B[0;34m(\u001B[0m\u001B[0;34m)\u001B[0m\u001B[0;34m\u001B[0m\u001B[0;34m\u001B[0m\u001B[0m\n\u001B[0m\u001B[1;32m    522\u001B[0m             \u001B[0mself\u001B[0m\u001B[0;34m.\u001B[0m\u001B[0m_num_yielded\u001B[0m \u001B[0;34m+=\u001B[0m \u001B[0;36m1\u001B[0m\u001B[0;34m\u001B[0m\u001B[0;34m\u001B[0m\u001B[0m\n\u001B[1;32m    523\u001B[0m             \u001B[0;32mif\u001B[0m \u001B[0mself\u001B[0m\u001B[0;34m.\u001B[0m\u001B[0m_dataset_kind\u001B[0m \u001B[0;34m==\u001B[0m \u001B[0m_DatasetKind\u001B[0m\u001B[0;34m.\u001B[0m\u001B[0mIterable\u001B[0m \u001B[0;32mand\u001B[0m\u001B[0;31m \u001B[0m\u001B[0;31m\\\u001B[0m\u001B[0;34m\u001B[0m\u001B[0;34m\u001B[0m\u001B[0m\n",
      "\u001B[0;32m~/opt/anaconda3/envs/deep_learn/lib/python3.6/site-packages/torch/utils/data/dataloader.py\u001B[0m in \u001B[0;36m_next_data\u001B[0;34m(self)\u001B[0m\n\u001B[1;32m    559\u001B[0m     \u001B[0;32mdef\u001B[0m \u001B[0m_next_data\u001B[0m\u001B[0;34m(\u001B[0m\u001B[0mself\u001B[0m\u001B[0;34m)\u001B[0m\u001B[0;34m:\u001B[0m\u001B[0;34m\u001B[0m\u001B[0;34m\u001B[0m\u001B[0m\n\u001B[1;32m    560\u001B[0m         \u001B[0mindex\u001B[0m \u001B[0;34m=\u001B[0m \u001B[0mself\u001B[0m\u001B[0;34m.\u001B[0m\u001B[0m_next_index\u001B[0m\u001B[0;34m(\u001B[0m\u001B[0;34m)\u001B[0m  \u001B[0;31m# may raise StopIteration\u001B[0m\u001B[0;34m\u001B[0m\u001B[0;34m\u001B[0m\u001B[0m\n\u001B[0;32m--> 561\u001B[0;31m         \u001B[0mdata\u001B[0m \u001B[0;34m=\u001B[0m \u001B[0mself\u001B[0m\u001B[0;34m.\u001B[0m\u001B[0m_dataset_fetcher\u001B[0m\u001B[0;34m.\u001B[0m\u001B[0mfetch\u001B[0m\u001B[0;34m(\u001B[0m\u001B[0mindex\u001B[0m\u001B[0;34m)\u001B[0m  \u001B[0;31m# may raise StopIteration\u001B[0m\u001B[0;34m\u001B[0m\u001B[0;34m\u001B[0m\u001B[0m\n\u001B[0m\u001B[1;32m    562\u001B[0m         \u001B[0;32mif\u001B[0m \u001B[0mself\u001B[0m\u001B[0;34m.\u001B[0m\u001B[0m_pin_memory\u001B[0m\u001B[0;34m:\u001B[0m\u001B[0;34m\u001B[0m\u001B[0;34m\u001B[0m\u001B[0m\n\u001B[1;32m    563\u001B[0m             \u001B[0mdata\u001B[0m \u001B[0;34m=\u001B[0m \u001B[0m_utils\u001B[0m\u001B[0;34m.\u001B[0m\u001B[0mpin_memory\u001B[0m\u001B[0;34m.\u001B[0m\u001B[0mpin_memory\u001B[0m\u001B[0;34m(\u001B[0m\u001B[0mdata\u001B[0m\u001B[0;34m)\u001B[0m\u001B[0;34m\u001B[0m\u001B[0;34m\u001B[0m\u001B[0m\n",
      "\u001B[0;32m~/opt/anaconda3/envs/deep_learn/lib/python3.6/site-packages/torch/utils/data/_utils/fetch.py\u001B[0m in \u001B[0;36mfetch\u001B[0;34m(self, possibly_batched_index)\u001B[0m\n\u001B[1;32m     50\u001B[0m         \u001B[0;32melse\u001B[0m\u001B[0;34m:\u001B[0m\u001B[0;34m\u001B[0m\u001B[0;34m\u001B[0m\u001B[0m\n\u001B[1;32m     51\u001B[0m             \u001B[0mdata\u001B[0m \u001B[0;34m=\u001B[0m \u001B[0mself\u001B[0m\u001B[0;34m.\u001B[0m\u001B[0mdataset\u001B[0m\u001B[0;34m[\u001B[0m\u001B[0mpossibly_batched_index\u001B[0m\u001B[0;34m]\u001B[0m\u001B[0;34m\u001B[0m\u001B[0;34m\u001B[0m\u001B[0m\n\u001B[0;32m---> 52\u001B[0;31m         \u001B[0;32mreturn\u001B[0m \u001B[0mself\u001B[0m\u001B[0;34m.\u001B[0m\u001B[0mcollate_fn\u001B[0m\u001B[0;34m(\u001B[0m\u001B[0mdata\u001B[0m\u001B[0;34m)\u001B[0m\u001B[0;34m\u001B[0m\u001B[0;34m\u001B[0m\u001B[0m\n\u001B[0m",
      "\u001B[0;32m~/opt/anaconda3/envs/deep_learn/lib/python3.6/site-packages/torch/utils/data/_utils/collate.py\u001B[0m in \u001B[0;36mdefault_collate\u001B[0;34m(batch)\u001B[0m\n\u001B[1;32m     79\u001B[0m         \u001B[0mit\u001B[0m \u001B[0;34m=\u001B[0m \u001B[0miter\u001B[0m\u001B[0;34m(\u001B[0m\u001B[0mbatch\u001B[0m\u001B[0;34m)\u001B[0m\u001B[0;34m\u001B[0m\u001B[0;34m\u001B[0m\u001B[0m\n\u001B[1;32m     80\u001B[0m         \u001B[0melem_size\u001B[0m \u001B[0;34m=\u001B[0m \u001B[0mlen\u001B[0m\u001B[0;34m(\u001B[0m\u001B[0mnext\u001B[0m\u001B[0;34m(\u001B[0m\u001B[0mit\u001B[0m\u001B[0;34m)\u001B[0m\u001B[0;34m)\u001B[0m\u001B[0;34m\u001B[0m\u001B[0;34m\u001B[0m\u001B[0m\n\u001B[0;32m---> 81\u001B[0;31m         \u001B[0;32mif\u001B[0m \u001B[0;32mnot\u001B[0m \u001B[0mall\u001B[0m\u001B[0;34m(\u001B[0m\u001B[0mlen\u001B[0m\u001B[0;34m(\u001B[0m\u001B[0melem\u001B[0m\u001B[0;34m)\u001B[0m \u001B[0;34m==\u001B[0m \u001B[0melem_size\u001B[0m \u001B[0;32mfor\u001B[0m \u001B[0melem\u001B[0m \u001B[0;32min\u001B[0m \u001B[0mit\u001B[0m\u001B[0;34m)\u001B[0m\u001B[0;34m:\u001B[0m\u001B[0;34m\u001B[0m\u001B[0;34m\u001B[0m\u001B[0m\n\u001B[0m\u001B[1;32m     82\u001B[0m             \u001B[0;32mraise\u001B[0m \u001B[0mRuntimeError\u001B[0m\u001B[0;34m(\u001B[0m\u001B[0;34m'each element in list of batch should be of equal size'\u001B[0m\u001B[0;34m)\u001B[0m\u001B[0;34m\u001B[0m\u001B[0;34m\u001B[0m\u001B[0m\n\u001B[1;32m     83\u001B[0m         \u001B[0mtransposed\u001B[0m \u001B[0;34m=\u001B[0m \u001B[0mzip\u001B[0m\u001B[0;34m(\u001B[0m\u001B[0;34m*\u001B[0m\u001B[0mbatch\u001B[0m\u001B[0;34m)\u001B[0m\u001B[0;34m\u001B[0m\u001B[0;34m\u001B[0m\u001B[0m\n",
      "\u001B[0;32m~/opt/anaconda3/envs/deep_learn/lib/python3.6/site-packages/torch/utils/data/_utils/collate.py\u001B[0m in \u001B[0;36m<genexpr>\u001B[0;34m(.0)\u001B[0m\n\u001B[1;32m     79\u001B[0m         \u001B[0mit\u001B[0m \u001B[0;34m=\u001B[0m \u001B[0miter\u001B[0m\u001B[0;34m(\u001B[0m\u001B[0mbatch\u001B[0m\u001B[0;34m)\u001B[0m\u001B[0;34m\u001B[0m\u001B[0;34m\u001B[0m\u001B[0m\n\u001B[1;32m     80\u001B[0m         \u001B[0melem_size\u001B[0m \u001B[0;34m=\u001B[0m \u001B[0mlen\u001B[0m\u001B[0;34m(\u001B[0m\u001B[0mnext\u001B[0m\u001B[0;34m(\u001B[0m\u001B[0mit\u001B[0m\u001B[0;34m)\u001B[0m\u001B[0;34m)\u001B[0m\u001B[0;34m\u001B[0m\u001B[0;34m\u001B[0m\u001B[0m\n\u001B[0;32m---> 81\u001B[0;31m         \u001B[0;32mif\u001B[0m \u001B[0;32mnot\u001B[0m \u001B[0mall\u001B[0m\u001B[0;34m(\u001B[0m\u001B[0mlen\u001B[0m\u001B[0;34m(\u001B[0m\u001B[0melem\u001B[0m\u001B[0;34m)\u001B[0m \u001B[0;34m==\u001B[0m \u001B[0melem_size\u001B[0m \u001B[0;32mfor\u001B[0m \u001B[0melem\u001B[0m \u001B[0;32min\u001B[0m \u001B[0mit\u001B[0m\u001B[0;34m)\u001B[0m\u001B[0;34m:\u001B[0m\u001B[0;34m\u001B[0m\u001B[0;34m\u001B[0m\u001B[0m\n\u001B[0m\u001B[1;32m     82\u001B[0m             \u001B[0;32mraise\u001B[0m \u001B[0mRuntimeError\u001B[0m\u001B[0;34m(\u001B[0m\u001B[0;34m'each element in list of batch should be of equal size'\u001B[0m\u001B[0;34m)\u001B[0m\u001B[0;34m\u001B[0m\u001B[0;34m\u001B[0m\u001B[0m\n\u001B[1;32m     83\u001B[0m         \u001B[0mtransposed\u001B[0m \u001B[0;34m=\u001B[0m \u001B[0mzip\u001B[0m\u001B[0;34m(\u001B[0m\u001B[0;34m*\u001B[0m\u001B[0mbatch\u001B[0m\u001B[0;34m)\u001B[0m\u001B[0;34m\u001B[0m\u001B[0;34m\u001B[0m\u001B[0m\n",
      "\u001B[0;31mKeyboardInterrupt\u001B[0m: "
     ]
    }
   ],
   "source": [
    "# model, hyoer-paramerters and training\n",
    "class MyFirstNN(nn.Module):\n",
    "\n",
    "    def __init__(self, input_dim, output_dim=1, change_weight_initialization=False):\n",
    "        super(MyFirstNN, self).__init__()\n",
    "        self.hidden = nn.Sequential(nn.Linear(input_dim, 20),\n",
    "                                    nn.ReLU(),\n",
    "                                    nn.Linear(20, 16),\n",
    "                                    nn.ReLU(),\n",
    "                                    nn.Linear(16, 12),\n",
    "                                    nn.ReLU(),\n",
    "                                    nn.Linear(12, 8),\n",
    "                                    nn.ReLU(),\n",
    "                                    nn.Linear(8, 4),\n",
    "                                    nn.ReLU(),\n",
    "                                    nn.Linear(4, output_dim))\n",
    "        self.output_layer = nn.Sigmoid()\n",
    "        self.criterion = nn.BCELoss()\n",
    "        self.device = torch.device(\"cuda:0\" if torch.cuda.is_available() else \"cpu\")\n",
    "        if change_weight_initialization:\n",
    "            self.init_weights()\n",
    "\n",
    "    def forward(self, X):\n",
    "        return self.output_layer(self.hidden(X))\n",
    "\n",
    "    def init_weights(self):\n",
    "        for m in self.modules():\n",
    "            if isinstance(m, nn.Linear):\n",
    "                # pick initialzation: https://pytorch.org/docs/stable/nn.init.html\n",
    "                # examples\n",
    "                # nn.init.kaiming_normal_(m.weight, mode='fan_out', nonlinearity='relu')\n",
    "                nn.init.xavier_uniform_(m.weight)\n",
    "                #nn.init.kaiming_normal_(m.bias, mode='fan_out', nonlinearity='relu')\n",
    "                # don't forget the bias term (m.bias)\n",
    "\n",
    "    def calc_accuracy(self, test_tensor, batch_size):\n",
    "        self.eval()\n",
    "        test_loader = DataLoader(dataset=test_tensor, batch_size=batch_size, shuffle=False)\n",
    "        correct = 0\n",
    "        total = 0\n",
    "        with torch.no_grad():\n",
    "            for features, targets in test_loader:\n",
    "                features.to(self.device)\n",
    "                targets.to(self.device)\n",
    "                outputs = self(features)\n",
    "                idx = 0\n",
    "                for output in outputs:\n",
    "                    if float(output) >= 0.5 and int(targets[idx]) == 1:\n",
    "                        correct += 1\n",
    "                    elif int(output) < 0.5 and int(targets[idx]) == 0:\n",
    "                        correct += 1\n",
    "                    total += 1\n",
    "                    idx += 1\n",
    "                accuracy = 100 * (correct/total)\n",
    "        return accuracy\n",
    "\n",
    "def train_model(train_set, num_features=10, output_dim=1, batch_size=128, learning_rate=0.1, num_epochs=500, plot=False, init_weights=False):\n",
    "    model = MyFirstNN(num_features, output_dim, change_weight_initialization=init_weights)\n",
    "    model = model.to(model.device)\n",
    "    optimizer = torch.optim.SGD(model.parameters(), lr=learning_rate)\n",
    "    train_data_loader = DataLoader(train_set, batch_size=batch_size, shuffle=True)\n",
    "    total_losses = []\n",
    "    for epoch in range(num_epochs):\n",
    "        model.train()\n",
    "        epoch_losses = []\n",
    "        for features, targets in train_data_loader:\n",
    "            features = features.to(model.device)\n",
    "            targets = targets.to(model.device)\n",
    "            output = model(features)\n",
    "            loss = model.criterion(output.view(-1), targets)\n",
    "            optimizer.zero_grad()\n",
    "            loss.backward()\n",
    "            optimizer.step()\n",
    "            epoch_losses.append(loss.item())\n",
    "        if epoch % 50 == 0:\n",
    "                print(f'epoch: {epoch} loss: {np.mean(epoch_losses)}')\n",
    "        total_losses.append(epoch_losses)\n",
    "    if plot:\n",
    "        plot_loss_function(total_losses)\n",
    "    return model\n",
    "\n",
    "def plot_loss_function(loss_list):\n",
    "    mean_loss = []\n",
    "    for loss in loss_list:\n",
    "        mean_loss.append(np.mean(loss))\n",
    "    mean_loss = np.array(mean_loss)\n",
    "    fig = plt.figure(figsize=(8, 5)) # create a figure, just like in matlab\n",
    "    ax = fig.add_subplot(1, 1 ,1) # create a subplot of certain size\n",
    "    ax.plot(mean_loss, label=\"Loss Per Epoch\")\n",
    "    ax.set_xlabel('Epoch')\n",
    "    ax.set_ylabel(\"Mean Epoch Loss\")\n",
    "    ax.set_title(\"Epoch\")\n",
    "    ax.grid()\n",
    "    ax.legend()\n",
    "\n",
    "\n",
    "possible_learning_rates = [0.01, 0.02, 0.04, 0.06, 0.07, 0.08, 0.09, 0.1]\n",
    "possible_batch_sizes = [256, 512]\n",
    "results = []\n",
    "for lr in possible_learning_rates:\n",
    "    for b_size in possible_batch_sizes:\n",
    "        my_model = train_model(train_ds, num_features=10, output_dim=1, batch_size=b_size, learning_rate=lr, num_epochs=500)\n",
    "        accuracy = my_model.calc_accuracy(val_ds, b_size)\n",
    "        results.append((lr, b_size, accuracy))\n",
    "        print(f'For Learning Rate = {lr} and Batch Size = {b_size} the validation accuracy is = {accuracy}')\n",
    "\n",
    "max_acc = 0\n",
    "max_acc_idx = 0\n",
    "idx = 0\n",
    "for result in results:\n",
    "    if result[2] > max_acc:\n",
    "        max_acc = result[2]\n",
    "        max_acc_idx = idx\n",
    "    idx += 1\n",
    "print(f'Selected Learning Rate = {results[max_acc_idx][0]}, Selected Batch Size = {results[max_acc_idx][1]}')\n",
    "train_ds = TensorDataset(torch.from_numpy(X_train_prep).float(), torch.from_numpy(y_train_np).float())\n",
    "my_model = train_model(train_ds,\n",
    "                       num_features=10,\n",
    "                       output_dim=1,\n",
    "                       batch_size=results[max_acc_idx][1],\n",
    "                       learning_rate=results[max_acc_idx][0],\n",
    "                       num_epochs=500,\n",
    "                       plot=True)\n",
    "test_error_no_weights = my_model.calc_accuracy(test_ds,results[max_acc_idx][1])\n",
    "print(f'Test Accuracy: {test_error_no_weights}')\n",
    "print(f'Using Personal Weight initializaion')\n",
    "my_model = train_model(train_ds,\n",
    "                       num_features=10,\n",
    "                       output_dim=1,\n",
    "                       batch_size=results[max_acc_idx][1],\n",
    "                       learning_rate=results[max_acc_idx][0],\n",
    "                       num_epochs=500,\n",
    "                       plot=False,\n",
    "                       init_weights=True)\n",
    "test_error_with_weights = my_model.calc_accuracy(test_ds,results[max_acc_idx][1])\n",
    "print(f'Test Accuracy with personal weight initialization: {test_error_with_weights}')\n",
    "print(f'Change in Accuracy (With weight initialization) - (Withouts weight initialization) = {test_error_with_weights - test_error_no_weights}')"
   ]
  },
  {
   "cell_type": "markdown",
   "metadata": {
    "slideshow": {
     "slide_type": "slide"
    }
   },
   "source": [
    "### <img src=\"https://img.icons8.com/color/48/000000/code.png\" style=\"height:50px;display:inline\"> Task 3 - Design a CNN\n",
    "---\n",
    "In this task you are going to design a deep convolutional neural network to classify house number digits from the **The Street View House Numbers (SVHN)** Dataset. \n",
    "\n",
    "SVHN is a real-world image dataset for developing machine learning and object recognition algorithms with minimal requirement on data preprocessing and formatting. It can be seen as similar in flavor to MNIST (e.g., the images are of small cropped digits), but incorporates an order of magnitude more labeled data (over 600,000 digit images) and comes from a significantly harder, unsolved, real world problem (recognizing digits and numbers in natural scene images). SVHN is obtained from house numbers in Google Street View images.\n",
    "\n",
    "* 10 classes, 1 for each digit. Digit '0' has label 0, '1' has label 1,...\n",
    "* 73257 digits for training, 26032 digits for testing, and 531131 additional, somewhat less difficult samples, to use as extra training data.\n",
    "\n",
    "<img src=\"http://ufldl.stanford.edu/housenumbers/32x32eg.png\" style=\"height:250px\">\n",
    "\n",
    "1. Load the SVHN dataset with PyTorch using `torchvision.datasets.SVHN(root, split='train', transform=None, target_transform=None, download=True)`, you can read more here: https://pytorch.org/vision/stable/generated/torchvision.datasets.SVHN.html#torchvision.datasets.SVHN. Display 5 images from the train set.\n",
    "2. Design a Convolutional Neural Network (CNN) to classify digits from the images.\n",
    "    * Describe the chosen architecture, how many layers? What activations did you choose? What are the filter sizes? Did you use fully-connected layers (if you did, explain their sizes)?\n",
    "    * What is the input dimension? What is the output dimension?\n",
    "    * Calculate the number of parameters (weights) in the network. What is the model size in Megabytes? (see the convolution tutorial). **Print** these numbers.\n",
    "3. Train the classifier (preferably on a GPU - use Colab for this part if you don't have a GPU).\n",
    "    * Describe the the hyper-parameters of the model (batch size, epochs, learning rate....). How did you tune your model? Did you use a validation set to tune the model?\n",
    "    * What is the final accuracy on the test set? **Print** it.\n",
    "        * You need to reach at least 86% accuracy in this section, and 90% for a full grade.\n",
    "    * **Plot** the loss curves (and any other statistic you calculate) as a function of epochs/iterations.\n",
    "4. For the trained classifier, what is the accuracy on the test set when each test image is added a small noise $a=(0.05, 0.01, 0.005)$: $$ \\text{image} + a \\times \\mathcal{N}(0, 1) $$. **Print** the result for each value of $a$.\n",
    "5. Retrain the classifier, but this time use data augementation of your choosing. Briefly explain what augmentation you chose and how it works. Did the test accuracy improve? **Print** the result.\n",
    "    * You can use transformations available in `torchvision.transforms` as shown in the tutorial.\n",
    "    * You are welcome to use <a href=\"https://kornia.github.io/\">`kornia`</a> for the augmentations (**2 points bonus**, maximal grade is still 100).\n",
    "    * **Plot** the loss curves (and any other statistic you want) as a function of epochs/iterations."
   ]
  },
  {
   "cell_type": "markdown",
   "source": [
    "**Section 1 Answer**\n",
    "--\n",
    "1. Load the SVHN dataset and Display 5 images from the train set."
   ],
   "metadata": {
    "collapsed": false
   }
  },
  {
   "cell_type": "code",
   "execution_count": 23,
   "outputs": [
    {
     "name": "stdout",
     "output_type": "stream",
     "text": [
      "Using downloaded and verified file: ./datasets/train_32x32.mat\n",
      "5 random pictures:\n"
     ]
    },
    {
     "data": {
      "text/plain": "<Figure size 864x180 with 5 Axes>",
      "image/png": "[encoded data removed]"
     },
     "metadata": {},
     "output_type": "display_data"
    }
   ],
   "source": [
    "# Load SVHN dataset\n",
    "train_set = torchvision.datasets.SVHN(\n",
    "    root='./datasets', split='train', transform=None,\n",
    "     target_transform=None, download=True)\n",
    "\n",
    "\n",
    "# Display 5 images from the train set without transformation\n",
    "fig, axes = plt.subplots(1, 5, figsize=(12, 2.5))\n",
    "indices = random.sample(range(len(train_set)), 5)\n",
    "print(f'5 random pictures:')\n",
    "for i, idx in enumerate(indices):\n",
    "    image, label = train_set[idx]\n",
    "    axes[i].imshow(image)\n",
    "    axes[i].set_title(label)\n",
    "    axes[i].set_xticks([])\n",
    "    axes[i].set_yticks([])\n",
    "\n",
    "plt.show()\n"
   ],
   "metadata": {
    "collapsed": false,
    "ExecuteTime": {
     "end_time": "2023-05-23T16:50:49.084682Z",
     "start_time": "2023-05-23T16:50:46.866579Z"
    }
   }
  },
  {
   "cell_type": "markdown",
   "source": [
    "**Section 1.5 Answer**\n",
    "--\n",
    "now we will define pre-processing steps on the images"
   ],
   "metadata": {
    "collapsed": false
   }
  },
  {
   "cell_type": "code",
   "execution_count": 24,
   "outputs": [
    {
     "name": "stdout",
     "output_type": "stream",
     "text": [
      "Using downloaded and verified file: ./datasets/train_32x32.mat\n",
      "Using downloaded and verified file: ./datasets/extra_32x32.mat\n",
      "Using downloaded and verified file: ./datasets/test_32x32.mat\n",
      "mean (for each channel) is (0.43597240888794314, 0.4420362291555156, 0.4709575299553918) , while std (for each channel) is (0.19725656929785426, 0.20023040743423295, 0.19626646929312347)\n",
      "Using downloaded and verified file: ./datasets/extra_32x32.mat\n",
      "73257\n"
     ]
    }
   ],
   "source": [
    "# getting std and mean for the transform getting it only from the **train_set**\n",
    "mean=(np.mean(train_set.data[:,0])/256,np.mean(train_set.data[:,1])/256,\n",
    "      np.mean(train_set.data[:,2])/256)\n",
    "std=(np.std(train_set.data[:,0])/256,np.std(train_set.data[:,1])/256,\n",
    "     np.std(train_set.data[:,2])/256)\n",
    "\n",
    "# define our transform\n",
    "# Normalize the all sets without augmentation\n",
    "\n",
    "transform = transforms.Compose([\n",
    "    transforms.ToTensor(),  # uint8  -> float\n",
    "    transforms.Normalize(mean,std),  ])\n",
    "\n",
    "# Load SVHN dataset\n",
    "train_set =torchvision.datasets.SVHN(\n",
    "    root='./datasets', split='train', transform=transform,\n",
    "     target_transform=None, download=True)\n",
    "val_set = torchvision.datasets.SVHN(\n",
    "    root='./datasets', split='extra', transform=transform,\n",
    "     target_transform=None, download=True)\n",
    "test_set = torchvision.datasets.SVHN(\n",
    "    root='./datasets', split='test', transform=transform,\n",
    "     target_transform=None, download=True)\n",
    "\n",
    "# now we have the entire data set split and Normalized\n",
    "print(f'mean (for each channel) is {mean} , while std (for each channel) is {std}')\n",
    "\n",
    "# Create a new instance of the SVHN class with the new test set\n",
    "new_val_set = datasets.SVHN(\n",
    "    root=val_set.root,\n",
    "    split=val_set.split,\n",
    "    transform=val_set.transform,\n",
    "    target_transform=val_set.target_transform,\n",
    "    download=val_set.download\n",
    ")\n",
    "\n",
    "# Override the data of the new test set\n",
    "indices = range(len(train_set))\n",
    "new_val_set.data = new_val_set.data[indices]\n",
    "\n",
    "\n",
    "# Print the type of the new test set\n",
    "print(len(new_val_set))\n",
    "\n"
   ],
   "metadata": {
    "collapsed": false,
    "ExecuteTime": {
     "end_time": "2023-05-23T16:51:25.533036Z",
     "start_time": "2023-05-23T16:50:50.767977Z"
    }
   }
  },
  {
   "cell_type": "markdown",
   "source": [
    "**Section 2 Answer**\n",
    "--\n",
    " **Our architecture has:**\n",
    "\n",
    "  4 Convolutional layers,\n",
    "\n",
    "  2 Max pooling layers,\n",
    "\n",
    "  4 Batch normalization layers,\n",
    "\n",
    "  3 Fully-connected layers.\n",
    "\n",
    "**The activations function we chose is** ReLU.\n",
    "\n",
    "**the sizes of the filters we have are:**\n",
    "\n",
    "The **first** convolutional layer has 32 filters with a kernel size of 3x3.\n",
    "\n",
    "The **second** convolutional layer has 32 filters with a kernel size of 3x3.\n",
    "\n",
    "The **third** convolutional layer has 64 filters with a kernel size of 3x3.\n",
    "\n",
    "The **fourth** convolutional layer has 64 filters with a kernel size of 3x3.\n",
    "\n",
    "**we used 3 fully-connected layers:**\n",
    "\n",
    "The first fully-connected layer, has an input size of 4096 and an output size of 512, that means it has ${(4,096+1)}\\cdot 512=2,098,688$.\n",
    "\n",
    "The second fully-connected layer, has an input size of 512 and an output size of 256, that means it has ${(512+1)}\\cdot 256=131,328$.\n",
    "\n",
    "The third fully-connected layer, has an input size of 256 and an output size of 10, that means it has ${(256+1)}\\cdot 10=2,570$."
   ],
   "metadata": {
    "collapsed": false
   }
  },
  {
   "cell_type": "code",
   "execution_count": 25,
   "outputs": [
    {
     "name": "stdout",
     "output_type": "stream",
     "text": [
      " The input dimension is (1, 3, 32, 32)\n",
      "\n",
      " The output dimension is (1, 64, 8, 8)\n",
      "\n",
      " The number of trainable weights in the model is 2297514\n",
      "\n",
      " The model size is 73520448 [bit] which is 8.76  [MBytes] \n"
     ]
    }
   ],
   "source": [
    "class SVHN(nn.Module):\n",
    "\n",
    "    def __init__(self):\n",
    "        super(SVHN, self).__init__()\n",
    "\n",
    "        self.conv_layer = nn.Sequential(\n",
    "            nn.Conv2d(in_channels=3, out_channels=32, kernel_size=3, padding=1),\n",
    "            nn.BatchNorm2d(32),\n",
    "            nn.ReLU(inplace=True),\n",
    "            nn.Conv2d(in_channels=32, out_channels=32, kernel_size=3, padding=1),\n",
    "            nn.BatchNorm2d(32),\n",
    "            nn.ReLU(inplace=True),\n",
    "            nn.MaxPool2d(kernel_size=2, stride=2),\n",
    "            nn.Conv2d(in_channels=32, out_channels=64, kernel_size=3, padding=1),\n",
    "            nn.BatchNorm2d(64),\n",
    "            nn.ReLU(inplace=True),\n",
    "            nn.Conv2d(in_channels=64, out_channels=64, kernel_size=3, padding=1),\n",
    "            nn.BatchNorm2d(64),\n",
    "            nn.ReLU(inplace=True),\n",
    "            nn.MaxPool2d(kernel_size=2, stride=2),\n",
    "        )\n",
    "\n",
    "        self.fc_layer = nn.Sequential(\n",
    "            nn.Dropout(p=0.5),\n",
    "            nn.Linear(4096, 512),\n",
    "            nn.ReLU(inplace=True),\n",
    "            nn.Dropout(p=0.5),\n",
    "            nn.Linear(512, 256),\n",
    "            nn.ReLU(inplace=True),\n",
    "            nn.Linear(256, 10),\n",
    "        )\n",
    "\n",
    "\n",
    "\n",
    "    def forward(self, x):\n",
    "\n",
    "        # conv layers\n",
    "        x = self.conv_layer(x)\n",
    "\n",
    "        # flatten\n",
    "        x = x.view(x.size(0), -1)\n",
    "\n",
    "        # fc layer\n",
    "        x = self.fc_layer(x)\n",
    "\n",
    "        return x\n",
    "\n",
    "# how can we calculate the output of the convolution automatically?\n",
    "dummy_input = torch.zeros([1, 3, 32, 32])\n",
    "dummy_model = SVHN()\n",
    "dummy_output = dummy_model.conv_layer(dummy_input)\n",
    "\n",
    "print(f' The input dimension is (1, 3, 32, 32)\\n')\n",
    "print(f' The output dimension is {tuple(dummy_output.shape)}\\n')\n",
    "\n",
    "# how many weights (trainable parameters) we have in our model?\n",
    "num_trainable_params = sum([p.numel() for p in dummy_model.parameters() if p.requires_grad])\n",
    "print(f' The number of trainable weights in the model is {num_trainable_params}\\n')\n",
    "\n",
    "# calculate the model size on disk\n",
    "size_model = 0\n",
    "for param in dummy_model.parameters():\n",
    "    if param.data.is_floating_point():\n",
    "        size_model += param.numel() * torch.finfo(param.data.dtype).bits\n",
    "    else:\n",
    "        size_model += param.numel() * torch.iinfo(param.data.dtype).bits\n",
    "print(f' The model size is {size_model} [bit] which is {size_model / (8*2**20):.2f}  [MBytes] ')"
   ],
   "metadata": {
    "collapsed": false,
    "ExecuteTime": {
     "end_time": "2023-05-23T16:51:53.066250Z",
     "start_time": "2023-05-23T16:51:52.962170Z"
    }
   }
  },
  {
   "cell_type": "markdown",
   "source": [
    "**Section 3 Answer**\n",
    "--\n",
    "**our hyper parameters are:**\n",
    "\n",
    "learning_rates\n",
    "\n",
    "batch size\n",
    "\n",
    "probability for dropout\n",
    "\n",
    "We chose them using validation set."
   ],
   "metadata": {
    "collapsed": false
   }
  },
  {
   "cell_type": "code",
   "execution_count": 26,
   "outputs": [
    {
     "name": "stdout",
     "output_type": "stream",
     "text": [
      "Epoch: 0, Loss: 1.0504\n"
     ]
    },
    {
     "ename": "KeyboardInterrupt",
     "evalue": "",
     "output_type": "error",
     "traceback": [
      "\u001B[0;31m---------------------------------------------------------------------------\u001B[0m",
      "\u001B[0;31mKeyboardInterrupt\u001B[0m                         Traceback (most recent call last)",
      "\u001B[0;32m<ipython-input-26-977758e1913d>\u001B[0m in \u001B[0;36m<module>\u001B[0;34m\u001B[0m\n\u001B[1;32m     91\u001B[0m                                \u001B[0mbatch_size\u001B[0m\u001B[0;34m=\u001B[0m\u001B[0mb_size\u001B[0m\u001B[0;34m,\u001B[0m\u001B[0;34m\u001B[0m\u001B[0;34m\u001B[0m\u001B[0m\n\u001B[1;32m     92\u001B[0m                                \u001B[0mlearning_rate\u001B[0m\u001B[0;34m=\u001B[0m\u001B[0mlr\u001B[0m\u001B[0;34m,\u001B[0m\u001B[0;34m\u001B[0m\u001B[0;34m\u001B[0m\u001B[0m\n\u001B[0;32m---> 93\u001B[0;31m                                num_epochs=epochs)\n\u001B[0m\u001B[1;32m     94\u001B[0m         \u001B[0maccuracy\u001B[0m \u001B[0;34m=\u001B[0m \u001B[0mcalculate_accuracy\u001B[0m\u001B[0;34m(\u001B[0m\u001B[0mmy_model\u001B[0m\u001B[0;34m,\u001B[0m \u001B[0mnew_val_set\u001B[0m\u001B[0;34m,\u001B[0m\u001B[0mdevice\u001B[0m\u001B[0;34m)\u001B[0m\u001B[0;34m\u001B[0m\u001B[0;34m\u001B[0m\u001B[0m\n\u001B[1;32m     95\u001B[0m         \u001B[0mresults\u001B[0m\u001B[0;34m.\u001B[0m\u001B[0mappend\u001B[0m\u001B[0;34m(\u001B[0m\u001B[0;34m(\u001B[0m\u001B[0mlr\u001B[0m\u001B[0;34m,\u001B[0m \u001B[0mb_size\u001B[0m\u001B[0;34m,\u001B[0m \u001B[0maccuracy\u001B[0m\u001B[0;34m)\u001B[0m\u001B[0;34m)\u001B[0m\u001B[0;34m\u001B[0m\u001B[0;34m\u001B[0m\u001B[0m\n",
      "\u001B[0;32m<ipython-input-26-977758e1913d>\u001B[0m in \u001B[0;36mtrain_model\u001B[0;34m(training_set, batch_size, learning_rate, num_epochs, plot, aug)\u001B[0m\n\u001B[1;32m     29\u001B[0m             \u001B[0mloss\u001B[0m \u001B[0;34m=\u001B[0m \u001B[0mcriterion\u001B[0m\u001B[0;34m(\u001B[0m\u001B[0moutputs\u001B[0m\u001B[0;34m,\u001B[0m \u001B[0mlabels\u001B[0m\u001B[0;34m)\u001B[0m  \u001B[0;31m# calculate the loss\u001B[0m\u001B[0;34m\u001B[0m\u001B[0;34m\u001B[0m\u001B[0m\n\u001B[1;32m     30\u001B[0m             \u001B[0moptimizer\u001B[0m\u001B[0;34m.\u001B[0m\u001B[0mzero_grad\u001B[0m\u001B[0;34m(\u001B[0m\u001B[0;34m)\u001B[0m\u001B[0;34m\u001B[0m\u001B[0;34m\u001B[0m\u001B[0m\n\u001B[0;32m---> 31\u001B[0;31m             \u001B[0mloss\u001B[0m\u001B[0;34m.\u001B[0m\u001B[0mbackward\u001B[0m\u001B[0;34m(\u001B[0m\u001B[0;34m)\u001B[0m\u001B[0;34m\u001B[0m\u001B[0;34m\u001B[0m\u001B[0m\n\u001B[0m\u001B[1;32m     32\u001B[0m             \u001B[0moptimizer\u001B[0m\u001B[0;34m.\u001B[0m\u001B[0mstep\u001B[0m\u001B[0;34m(\u001B[0m\u001B[0;34m)\u001B[0m\u001B[0;34m\u001B[0m\u001B[0;34m\u001B[0m\u001B[0m\n\u001B[1;32m     33\u001B[0m             \u001B[0mepoch_loss\u001B[0m \u001B[0;34m+=\u001B[0m \u001B[0mloss\u001B[0m\u001B[0;34m.\u001B[0m\u001B[0mitem\u001B[0m\u001B[0;34m(\u001B[0m\u001B[0;34m)\u001B[0m\u001B[0;34m\u001B[0m\u001B[0;34m\u001B[0m\u001B[0m\n",
      "\u001B[0;32m~/opt/anaconda3/envs/deep_learn/lib/python3.6/site-packages/torch/_tensor.py\u001B[0m in \u001B[0;36mbackward\u001B[0;34m(self, gradient, retain_graph, create_graph, inputs)\u001B[0m\n\u001B[1;32m    305\u001B[0m                 \u001B[0mcreate_graph\u001B[0m\u001B[0;34m=\u001B[0m\u001B[0mcreate_graph\u001B[0m\u001B[0;34m,\u001B[0m\u001B[0;34m\u001B[0m\u001B[0;34m\u001B[0m\u001B[0m\n\u001B[1;32m    306\u001B[0m                 inputs=inputs)\n\u001B[0;32m--> 307\u001B[0;31m         \u001B[0mtorch\u001B[0m\u001B[0;34m.\u001B[0m\u001B[0mautograd\u001B[0m\u001B[0;34m.\u001B[0m\u001B[0mbackward\u001B[0m\u001B[0;34m(\u001B[0m\u001B[0mself\u001B[0m\u001B[0;34m,\u001B[0m \u001B[0mgradient\u001B[0m\u001B[0;34m,\u001B[0m \u001B[0mretain_graph\u001B[0m\u001B[0;34m,\u001B[0m \u001B[0mcreate_graph\u001B[0m\u001B[0;34m,\u001B[0m \u001B[0minputs\u001B[0m\u001B[0;34m=\u001B[0m\u001B[0minputs\u001B[0m\u001B[0;34m)\u001B[0m\u001B[0;34m\u001B[0m\u001B[0;34m\u001B[0m\u001B[0m\n\u001B[0m\u001B[1;32m    308\u001B[0m \u001B[0;34m\u001B[0m\u001B[0m\n\u001B[1;32m    309\u001B[0m     \u001B[0;32mdef\u001B[0m \u001B[0mregister_hook\u001B[0m\u001B[0;34m(\u001B[0m\u001B[0mself\u001B[0m\u001B[0;34m,\u001B[0m \u001B[0mhook\u001B[0m\u001B[0;34m)\u001B[0m\u001B[0;34m:\u001B[0m\u001B[0;34m\u001B[0m\u001B[0;34m\u001B[0m\u001B[0m\n",
      "\u001B[0;32m~/opt/anaconda3/envs/deep_learn/lib/python3.6/site-packages/torch/autograd/__init__.py\u001B[0m in \u001B[0;36mbackward\u001B[0;34m(tensors, grad_tensors, retain_graph, create_graph, grad_variables, inputs)\u001B[0m\n\u001B[1;32m    154\u001B[0m     Variable._execution_engine.run_backward(\n\u001B[1;32m    155\u001B[0m         \u001B[0mtensors\u001B[0m\u001B[0;34m,\u001B[0m \u001B[0mgrad_tensors_\u001B[0m\u001B[0;34m,\u001B[0m \u001B[0mretain_graph\u001B[0m\u001B[0;34m,\u001B[0m \u001B[0mcreate_graph\u001B[0m\u001B[0;34m,\u001B[0m \u001B[0minputs\u001B[0m\u001B[0;34m,\u001B[0m\u001B[0;34m\u001B[0m\u001B[0;34m\u001B[0m\u001B[0m\n\u001B[0;32m--> 156\u001B[0;31m         allow_unreachable=True, accumulate_grad=True)  # allow_unreachable flag\n\u001B[0m\u001B[1;32m    157\u001B[0m \u001B[0;34m\u001B[0m\u001B[0m\n\u001B[1;32m    158\u001B[0m \u001B[0;34m\u001B[0m\u001B[0m\n",
      "\u001B[0;31mKeyboardInterrupt\u001B[0m: "
     ]
    }
   ],
   "source": [
    "def train_model(training_set, batch_size=128, learning_rate=0.1, num_epochs=500, plot=False, aug=False):\n",
    "    # dataloaders - creating batches and shuffling the data\n",
    "    train_loader = torch.utils.data.DataLoader(training_set, batch_size=batch_size, shuffle=True)\n",
    "\n",
    "    device_1 = torch.device(\"cuda:0\" if torch.cuda.is_available() else \"cpu\")\n",
    "\n",
    "    # loss criterion for classification problem\n",
    "    criterion = nn.CrossEntropyLoss()\n",
    "\n",
    "    # build our model and send it to the device\n",
    "    model = SVHN().to(device_1)\n",
    "    optimizer = torch.optim.Adam(model.parameters(), lr=learning_rate)\n",
    "    total_loss = []\n",
    "\n",
    "    for epoch in range(num_epochs):\n",
    "        model.train()\n",
    "        epoch_loss = 0.0\n",
    "        for t, data in enumerate(train_loader, 0):\n",
    "            inputs, labels = data\n",
    "            inputs = inputs.to(device_1)\n",
    "            labels = labels.to(device_1)\n",
    "            if aug:\n",
    "                augmented_inputs = aug_list(inputs)  # Apply augmentations\n",
    "                inputs = torch.cat((inputs, augmented_inputs), dim=0)  # Concatenate inputs\n",
    "                labels = torch.cat((labels, labels), dim=0)  # Extend labels\n",
    "\n",
    "            # forward + backward + optimize\n",
    "            outputs = model(inputs)  # forward pass\n",
    "            loss = criterion(outputs, labels)  # calculate the loss\n",
    "            optimizer.zero_grad()\n",
    "            loss.backward()\n",
    "            optimizer.step()\n",
    "            epoch_loss += loss.item()\n",
    "\n",
    "        epoch_loss /= len(train_loader)\n",
    "        if epoch % 2 == 0:\n",
    "            print(f'Epoch: {epoch}, Loss: {epoch_loss:.4f}')\n",
    "\n",
    "        total_loss.append(epoch_loss)\n",
    "\n",
    "    if plot:\n",
    "        plot_loss_function(total_loss)\n",
    "\n",
    "    return model\n",
    "\n",
    "# function to calculate accuracy of the model\n",
    "def calculate_accuracy(model, dataloader, device2):\n",
    "    model.eval() # put in evaluation mode,  turn of DropOut, BatchNorm uses learned statistics\n",
    "    total_correct = 0\n",
    "    total_images = 0\n",
    "    test_loader = torch.utils.data.DataLoader(dataloader, batch_size=10, shuffle=True)\n",
    "    with torch.no_grad():\n",
    "        for data in test_loader:\n",
    "            images, labels = data\n",
    "            images = images.to(device2)\n",
    "            labels = labels.to(device2)\n",
    "            outputs = model(images)\n",
    "            _, predicted = torch.max(outputs.data, 1)\n",
    "            total_images += labels.size(0)\n",
    "            total_correct += (predicted == labels).sum().item()\n",
    "\n",
    "    model_accuracy = total_correct / total_images * 100\n",
    "    return model_accuracy\n",
    "\n",
    "def plot_loss_function(loss_list):\n",
    "    mean_loss = []\n",
    "    for loss in loss_list:\n",
    "        mean_loss.append(np.mean(loss))\n",
    "    mean_loss = np.array(mean_loss)\n",
    "    fig2 = plt.figure(figsize=(8, 5)) # create a figure, just like in matlab\n",
    "    ax = fig2.add_subplot(1, 1 ,1) # create a subplot of certain size\n",
    "    ax.plot(mean_loss, label=\"Loss Per Epoch\")\n",
    "    ax.set_xlabel('Epoch')\n",
    "    ax.set_ylabel(\"Mean Epoch Loss\")\n",
    "    ax.set_title(\"Epoch\")\n",
    "    ax.grid()\n",
    "    ax.legend()\n",
    "\n",
    "\n",
    "#Now we will tune our model using a validation set.\n",
    "# hyperparameters\n",
    "device = torch.device(\"cuda:0\" if torch.cuda.is_available() else \"cpu\")\n",
    "epochs=5\n",
    "possible_learning_rates = [9e-5]\n",
    "possible_batch_sizes = [64]\n",
    "\n",
    "results = []\n",
    "for lr in possible_learning_rates:\n",
    "    for b_size in possible_batch_sizes:\n",
    "        my_model = train_model(train_set,\n",
    "                               batch_size=b_size,\n",
    "                               learning_rate=lr,\n",
    "                               num_epochs=epochs)\n",
    "        accuracy = calculate_accuracy(my_model, new_val_set,device)\n",
    "        results.append((lr, b_size, accuracy))\n",
    "        print(f'\\nFor Learning Rate = {lr} and Batch Size = {b_size} the validation accuracy is = {accuracy}\\n')\n",
    "\n",
    "max_acc = 0\n",
    "max_acc_idx = 0\n",
    "idx = 0\n",
    "for result in results:\n",
    "    if result[2] > max_acc:\n",
    "        max_acc = result[2]\n",
    "        max_acc_idx = idx\n",
    "    idx += 1\n",
    "print(f'Selected Learning Rate = {results[max_acc_idx][0]}, Selected Batch Size = {results[max_acc_idx][1]}')\n",
    "print(f'Lets print accuracy and the loss curve as a function of epoch:')\n",
    "my_model = train_model(train_set,\n",
    "                       batch_size=64,\n",
    "                       learning_rate=9e-5,\n",
    "                       num_epochs=epochs,\n",
    "                       plot=True)\n",
    "accuracy = calculate_accuracy(my_model, test_set,device)\n",
    "print(f'Test Accuracy: {accuracy}')\n"
   ],
   "metadata": {
    "collapsed": false,
    "ExecuteTime": {
     "end_time": "2023-05-23T17:07:59.432189Z",
     "start_time": "2023-05-23T16:53:42.151593Z"
    }
   }
  },
  {
   "cell_type": "markdown",
   "source": [
    "**Section 4 Answer**\n",
    "--\n",
    "Let's add noise to see how robust our model"
   ],
   "metadata": {
    "collapsed": false
   }
  },
  {
   "cell_type": "code",
   "execution_count": null,
   "outputs": [],
   "source": [
    "a = [0.05, 0.01, 0.005]\n",
    "\n",
    "noisy_test_set = []\n",
    "\n",
    "for noise_level in a:\n",
    "    noisy_test_set = []\n",
    "    for i in range(len(test_set)):\n",
    "        image = test_set[i][0]\n",
    "        label = test_set[i][1]\n",
    "        noisy_image = image + noise_level * torch.randn_like(image)\n",
    "        noisy_test_set.append((noisy_image, label))\n",
    "\n",
    "    accuracy = calculate_accuracy(my_model, noisy_test_set, device)\n",
    "    print(f\"Accuracy with noise level {noise_level}: {accuracy}\")"
   ],
   "metadata": {
    "collapsed": false
   }
  },
  {
   "cell_type": "markdown",
   "source": [
    "**Section 5 Answer**\n",
    "--\n",
    "\n",
    "**The augmentation we chose are:**\n",
    "\n",
    "RandomBoxBlur - The function returns the batch of images with box blurring applied, resulting in blurred versions of the original images.\n",
    "\n",
    "RandomPerspective - The function returns images that simulate different viewing angles or perspectives.\n",
    "\n",
    "the test accuracy improved a little."
   ],
   "metadata": {
    "collapsed": false
   }
  },
  {
   "cell_type": "code",
   "execution_count": null,
   "outputs": [],
   "source": [
    "# Define a sequence of augmentations\n",
    "aug_list = AugmentationSequential(\n",
    "    k.RandomBoxBlur((7, 7), p=1.),\n",
    "    k.RandomPerspective(0.25, p=0.5),\n",
    "    same_on_batch=False,\n",
    ")\n",
    "\n",
    "my_model = train_model(train_set,\n",
    "                       batch_size=128,\n",
    "                       learning_rate=9e-5,\n",
    "                       num_epochs=epochs,\n",
    "                       plot=True,\n",
    "                       aug=True)\n",
    "accuracy = calculate_accuracy(my_model, test_set,device)\n",
    "print(f'Test Accuracy and statistics: {accuracy}')\n",
    "\n",
    "a = [0.05, 0.01, 0.005]\n",
    "\n",
    "noisy_test_set = []\n",
    "\n",
    "for noise_level in a:\n",
    "    noisy_test_set = []\n",
    "    for i in range(len(test_set)):\n",
    "        image = test_set[i][0]\n",
    "        label = test_set[i][1]\n",
    "        noisy_image = image + noise_level * torch.randn_like(image)\n",
    "        noisy_test_set.append((noisy_image, label))\n",
    "\n",
    "    accuracy = calculate_accuracy(my_model, noisy_test_set, device)\n",
    "    print(f\"Accuracy with noise level {noise_level}: {accuracy}\")"
   ],
   "metadata": {
    "collapsed": false
   }
  },
  {
   "cell_type": "markdown",
   "metadata": {},
   "source": [
    "## <img src=\"https://img.icons8.com/dusk/64/000000/prize.png\" style=\"height:50px;display:inline\"> Credits\n",
    "---\n",
    "* Icons made by <a href=\"https://www.flaticon.com/authors/becris\" title=\"Becris\">Becris</a> from <a href=\"https://www.flaticon.com/\" title=\"Flaticon\">www.flaticon.com</a>\n",
    "* Icons from <a href=\"https://icons8.com/\">Icons8.com</a> - https://icons8.com\n",
    "* Datasets from <a href=\"https://www.kaggle.com/\">Kaggle</a> - https://www.kaggle.com/"
   ]
  }
 ],
 "metadata": {
  "kernelspec": {
   "display_name": "Python 3",
   "language": "python",
   "name": "python3"
  },
  "language_info": {
   "codemirror_mode": {
    "name": "ipython",
    "version": 3
   },
   "file_extension": ".py",
   "mimetype": "text/x-python",
   "name": "python",
   "nbconvert_exporter": "python",
   "pygments_lexer": "ipython3",
   "version": "3.6.9"
  }
 },
 "nbformat": 4,
 "nbformat_minor": 2
}
