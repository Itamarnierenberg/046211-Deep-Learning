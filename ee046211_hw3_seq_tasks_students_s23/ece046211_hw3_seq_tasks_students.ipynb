{
 "cells": [
  {
   "cell_type": "markdown",
   "metadata": {
    "id": "dzV9wsJ5pGhf"
   },
   "source": [
    "# <img src=\"https://img.icons8.com/bubbles/50/000000/mind-map.png\" style=\"height:50px;display:inline\"> ECE 046211 - Technion - Deep Learning\n",
    "---\n",
    "\n",
    "## HW3 - Sequential Tasks and Training Methods\n",
    "---"
   ]
  },
  {
   "cell_type": "markdown",
   "metadata": {
    "id": "bq2c8X93pGhh"
   },
   "source": [
    "### <img src=\"https://img.icons8.com/clouds/96/000000/keyboard.png\" style=\"height:50px;display:inline\"> Keyboard Shortcuts\n",
    "---\n",
    "* Run current cell: **Ctrl + Enter**\n",
    "* Run current cell and move to the next: **Shift + Enter**\n",
    "* Show lines in a code cell: **Esc + L**\n",
    "* View function documentation: **Shift + Tab** inside the parenthesis or `help(name_of_module)`\n",
    "* New cell below: **Esc + B**\n",
    "* Delete cell: **Esc + D, D** (two D's)"
   ]
  },
  {
   "cell_type": "markdown",
   "metadata": {
    "id": "vZZybn3NpGhh"
   },
   "source": [
    "### <img src=\"https://img.icons8.com/bubbles/50/000000/information.png\" style=\"height:50px;display:inline\"> Students Information\n",
    "---\n",
    "* Fill in\n",
    "\n",
    "|Name     |Campus Email| ID  |\n",
    "|---------|--------------------------------|----------|\n",
    "|Student 1| student_1@campus.technion.ac.il| 123456789|\n",
    "|Student 2| student_2@campus.technion.ac.il| 987654321|\n"
   ]
  },
  {
   "cell_type": "markdown",
   "metadata": {
    "id": "dDK5zqhdpGhi"
   },
   "source": [
    "### <img src=\"https://img.icons8.com/bubbles/50/000000/upload-to-cloud.png\" style=\"height:50px;display:inline\"> Submission Guidelines\n",
    "---\n",
    "* Maximal garde: 100.\n",
    "* Submission only in **pairs**. \n",
    "    * Please make sure you have registered your group in Moodle (there is a group creation component on the Moodle where you need to create your group and assign members).\n",
    "* **No handwritten submissions.** You can choose whether to answer in a Markdown cell in this notebook or attach a PDF with your answers.\n",
    "* <a style='color:red'> SAVE THE NOTEBOOKS WITH THE OUTPUT, CODE CELLS THAT WERE NOT RUN WILL NOT GET ANY POINTS! </a>\n",
    "* What you have to submit:\n",
    "    * If you have answered the questions in the notebook, you should submit this file only, with the name: `ece046211_hw3_id1_id2.ipynb`.\n",
    "    * If you answered the questionss in a different file you should submit a `.zip` file with the name `ece046211_hw3_id1_id2.zip` with content:\n",
    "        * `ece046211_hw3_id1_id2.ipynb` - the code tasks\n",
    "        * `ece046211_hw3_id1_id2.pdf` - answers to questions.\n",
    "    * No other file-types (`.py`, `.docx`...) will be accepted.\n",
    "* Submission on the course website (Moodle).\n",
    "* **Latex in Colab** - in some cases, Latex equations may no be rendered. To avoid this, make sure to not use *bullets* in your answers (\"* some text here with Latex equations\" -> \"some text here with Latex equations\")."
   ]
  },
  {
   "cell_type": "markdown",
   "metadata": {
    "id": "pmSj_UufpGhi"
   },
   "source": [
    "### <img src=\"https://img.icons8.com/dusk/64/000000/online.png\" style=\"height:50px;display:inline\"> Working Online and Locally\n",
    "---\n",
    "* You can choose your working environment:\n",
    "    1. `Jupyter Notebook`, **locally** with <a href=\"https://www.anaconda.com/distribution/\">Anaconda</a> or **online** on <a href=\"https://colab.research.google.com/\">Google Colab</a>\n",
    "        * Colab also supports running code on GPU, so if you don't have one, Colab is the way to go. To enable GPU on Colab, in the menu: `Runtime`$\\rightarrow$ `Change Runtime Type` $\\rightarrow$`GPU`.\n",
    "    2. Python IDE such as <a href=\"https://www.jetbrains.com/pycharm/\">PyCharm</a> or <a href=\"https://code.visualstudio.com/\">Visual Studio Code</a>.\n",
    "        * Both allow editing and running Jupyter Notebooks.\n",
    "\n",
    "* Please refer to `Setting Up the Working Environment.pdf` on the Moodle or our GitHub (https://github.com/taldatech/ee046211-deep-learning) to help you get everything installed.\n",
    "* If you need any technical assistance, please go to our Piazza forum (`hw3` folder) and describe your problem (preferably with images)."
   ]
  },
  {
   "cell_type": "markdown",
   "metadata": {
    "id": "nlp1Fp4ppGhj"
   },
   "source": [
    "### <img src=\"https://img.icons8.com/bubbles/50/000000/checklist.png\" style=\"height:50px;display:inline\"> Agenda\n",
    "---\n",
    "\n",
    "* [Part 1 - Theory](#-Part-1---Theory)\n",
    "    * [Q1 - Dropout](#-Question-1--Dropout)\n",
    "    * [Q2 - Preventing Variance Explosion](#-Question-2--Preventing-Variance-Explosion)\n",
    "    * [Q3 - Batch Normalization](#-Solution-4--Batch-Normalization)\n",
    "* [Part 2 - Code Assignments - Sequence-to-Sequence with Transformers](#-Part-2---Code-Assignments)\n",
    "    * [Task 1 - Task 1 - Loading and Observing the Data](#-Task-1----Loading-and-Observing-the-Data)\n",
    "    * [Task 2 - Preparing the Data - Separating to Inputs and Targets](#-Task-2----Preparing-the--Data---Separating-to-Inputs-and-Targets)\n",
    "    * [Task 3 - Define Hyperparameters and Initialize the Model](#-Task-3----Define-Hyperparameters-and-Initialize-the-Model)\n",
    "    * [Task 4 - Train and Evaluate the Language Model](#-Task-4----Train-and-Evaluate-the-Language-Model)\n",
    "    * [Task 5 - Generate Sentences](#-Task-5----Generate-Sentences)\n",
    "* [Credits](#-Credits)"
   ]
  },
  {
   "cell_type": "markdown",
   "metadata": {
    "id": "XKtSiQX_pGhj"
   },
   "source": [
    "### <img src=\"https://img.icons8.com/cute-clipart/64/000000/ball-point-pen.png\" style=\"height:50px;display:inline\"> Part 1 - Theory\n",
    "---\n",
    "* You can choose whether to answser these straight in the notebook (Markdown + Latex) or use another editor (Word, LyX, Latex, Overleaf...) and submit an additional PDF file, **but no handwritten submissions**.\n",
    "* You can attach additional figures (drawings, graphs,...) in a separate PDF file, just make sure to refer to them in your answers.\n",
    "\n",
    "* $\\large\\LaTeX$ <a href=\"https://kapeli.com/cheat_sheets/LaTeX_Math_Symbols.docset/Contents/Resources/Documents/index\">Cheat-Sheet</a> (to write equations)\n",
    "    * <a href=\"http://tug.ctan.org/info/latex-refsheet/LaTeX_RefSheet.pdf\">Another Cheat-Sheet</a>"
   ]
  },
  {
   "cell_type": "markdown",
   "metadata": {
    "id": "RsqSFZG1pGhj"
   },
   "source": [
    "## <img src=\"https://img.icons8.com/clouds/100/000000/question-mark.png\" style=\"height:50px;display:inline\"> Question 1 -Dropout\n",
    "---\n",
    "In this question, we are going to analyze the following idea:\n",
    "\n",
    "**Idea: use Droput regularization as a feature selection mechanism for the input.**\n",
    "\n",
    "To implement the idea, we wish to create a Dropout mask with probability $p_i$ to drop (=zero out) the $i^{th}$ component of the input feature vector, and optimize $p_i$ such that it encourages a deterministic selction of features (i.e., $p_i \\to 0 \\text{ or } 1$).\n",
    "\n",
    "We will analyze the method on the simple case of Linear Regression: $$ \\mathcal{L}(w)=\\frac{1}{2}\\sum_{n=1}^N\\left(y^{(n)} -w^TD^{(n)}x^{(n)} \\right)^2, $$ where $w \\in \\mathbb{R}^d$ is the parameters vector, $x^{(n)}\\in \\mathbb{R}^d$ are the trainin set samples, $y^{(n)} \\in \\mathbb{R}$ are the corresponding labels and $D^{(n)}\\in \\{0, 1 \\}^{d \\times d}$ is the *diagonal* random Dropout mask, where each element is sampled independently according to: \n",
    "$$ D_{ii}^{(n)}=\\frac{1}{1-p_i}\\begin{cases} 1 \\text{ w.p. } 1-p_i \\\\ 0 \\text{ w.p. } p_i \\end{cases} ,$$\n",
    "where $p_i \\in [0,1]$ is the probability to drop (=zero out) the $i^{th}$ component in the input vector, and we denote $p=[p_1, ..., p_d]^T$.\n",
    "\n",
    "1. Find $\\mathbb{E}[D_{ii}^{(n)}]$ and show that $\\mathbb{E}[D_{ii}^{(n)}D_{jj}^{(n)}]=1 + \\delta_{ij}\\frac{p_i}{1-p_i}$.\n",
    "\n",
    "2. Show that the mean cost function $\\bar{\\mathcal{L}}(w,p)$ (the mean is over the *masks*) is $$ \\bar{\\mathcal{L}}(w,p) = \\mathbb{E}[\\mathcal{L}] =\\frac{1}{2}\\sum_{n=1}^N \\left(y^{(n)} - w^Tx^{(n)} \\right)^2 + \\frac{1}{2}\\sum_{i=1}^d \\frac{p_i}{1-p_i}c_iw_i^2, $$ where $c_i = \\sum_{n=1}^N \\left(x_i^{(n)} \\right)^2$. From this section onwards, you can always assume $\\forall i : c_i >0$.\n",
    "\n",
    "3. Briefly explain what is the difference between $\\bar{\\mathcal{L}}(w,p)$ and the standard Linear Regression loss function without Dropout.\n",
    "\n",
    "4. Note that $\\bar{\\mathcal{L}}(w,p)$ is dependent on $p$, but we know that $p_i \\in [0,1]$. Suggest a function $p=f(u)$ such that we can use Gradient Descent without cinstraints on $\\bar{\\mathcal{L}}(w,f(u))$.\n",
    "\n",
    "5. Recall that we want $p_i \\to 1$ for some features and for the rest $p_i \\to 0$. Assume that there exists a *sparse* solution $w_0$ (that includes zeros), and a *dense* (non-sparse) solution $w_*$ such that $$ \\forall n : y^{(n)} = w_0^Tx^{(n)}=w_*^Tx^{(n)}.$$ Does that necessarily mean that we get $w_0$ by reaching the minimum of $\\bar{\\mathcal{L}}(w,p)$ at $w,p$?\n",
    "\n",
    "6. After some experiments, we got an improvement by adding noise to the input and regularization on $p$, and got $$ \\bar{\\mathcal{L}}(w,p) = \\mathbb{E}[\\mathcal{L}] =\\frac{1}{2}\\sum_{n=1}^N \\left(y^{(n)} - w^Tx^{(n)} \\right)^2 + \\frac{1}{2}\\sum_{i=1}^d \\frac{1}{1-p_i}w_i^2\\sum_{n=1}^N\\left(x_i^{(n)}\\right)^2 + \\mu\\sum_{i=1}^d(1-p_i). $$ Show by calculating $\\bar{\\mathcal{L}}(w)=\\min_{p\\in \\mathbb{R}^d}\\bar{\\mathcal{L}}(w,p)$ that we can omit the Dropout and instead add a regularization $R(w)$ directly to the Linear Regression. Calculate the regularization $R(w)$ and explain how it helps in feature selection."
   ]
  },
  {
   "cell_type": "markdown",
   "metadata": {
    "id": "RsqSFZG1pGhj"
   },
   "source": [
    "## <img src=\"https://img.icons8.com/clouds/100/000000/question-mark.png\" style=\"height:50px;display:inline\"> Question 2 - Preventing Variance Explosion\n",
    "---\n",
    "This question relates to lectures 8-9 (from slide 7):\n",
    "\n",
    "Find an initializtion scheme such that $$ \\forall l, i,: \\text{(1) } \\mathbb{E}\\left[F_l(u_l)|u_l\\right]=0, \\text{ (2) } Var(u_l[i]) = 1, $$ assuming skip connections: $u_{l+1} = u_l + F_l(u_l)$ with a single skip $F_l(u_l)=W_l\\phi(u_l)+b_l$ and the activation is ReLU: $\\phi(x) = \\text{ReLU}(x) = \\max(0,x)$. "
   ]
  },
  {
   "cell_type": "markdown",
   "metadata": {
    "id": "RsqSFZG1pGhj"
   },
   "source": [
    "## <img src=\"https://img.icons8.com/clouds/100/000000/question-mark.png\" style=\"height:50px;display:inline\"> Question 3 -Batch Normalization\n",
    "---\n",
    "This question relates to lectures 8-9 (from slide 9):\n",
    "\n",
    "Prove that **without** regularization, BatchNorm **scale invariance** for parameters $\\mathbf{w}$ implies:\n",
    "1. $\\nabla \\mathcal{L}(\\mathbf{w})^T\\mathbf{w} = 0$\n",
    "2. And under gradient flow dynamics ($\\dot{\\mathbf{w}} = -\\eta \\nabla \\mathcal{L}(\\mathbf{w})$) this implies (L2) norm conservation: $\\forall t: ||\\mathbf{w}(t)||^2 = C$\n",
    "\n",
    "Hint: see results from the multilayer networks lecture."
   ]
  },
  {
   "cell_type": "markdown",
   "metadata": {
    "id": "7D-14iM7pGhm"
   },
   "source": [
    "### <img src=\"https://img.icons8.com/officel/80/000000/code.png\" style=\"height:50px;display:inline\"> Part 2 - Code Assignments\n",
    "---\n",
    "* You must write your code in this notebook and save it with the output of all of the code cells.\n",
    "* Additional text can be added in Markdown cells.\n",
    "* You can use any other IDE you like (PyCharm, VSCode...) to write/debug your code, but for the submission you must copy it to this notebook, run the code and save the notebook with the output."
   ]
  },
  {
   "cell_type": "code",
   "execution_count": 16,
   "metadata": {
    "ExecuteTime": {
     "end_time": "2023-06-03T13:19:55.060787Z",
     "start_time": "2023-06-03T13:19:55.033201Z"
    }
   },
   "outputs": [],
   "source": [
    "# this part uses the Wikitext-2 dataset. To access torchtext datasets, please install `torchdata`:\n",
    "# `pip install torchdata` ir `conda install -c pytorch torchdata` in activated environment \n",
    "# or `!pip install torchdata` on colab.\n",
    "!pip install torchdata\n",
    "# notes:\n",
    "# torch=2.0.0 <-> torchtext 0.15.1\n",
    "# torch=1.13.0 <-> torchtext 0.14.0\n",
    "# torch=1.12.1 <-> torchtext 0.13.1\n",
    "# downgrading torchtext example: !pip install torchtext==0.13.1 --no-deps\n",
    "# torchtext requires the `portalocker` package to download datasets:\n",
    "!pip install portalocker"
   ]
  },
  {
   "cell_type": "code",
   "execution_count": 134,
   "metadata": {
    "slideshow": {
     "slide_type": "skip"
    },
    "ExecuteTime": {
     "end_time": "2023-06-04T07:24:22.724957Z",
     "start_time": "2023-06-04T07:24:22.690136Z"
    }
   },
   "outputs": [],
   "source": [
    "# imports for the practice (you can add more if you need)\n",
    "import numpy as np\n",
    "import matplotlib.pyplot as plt\n",
    "import time\n",
    "import os\n",
    "import math\n",
    "from typing import Tuple\n",
    "\n",
    "# pytorch\n",
    "import torch\n",
    "from torch import nn, Tensor\n",
    "import torch.nn.functional as F\n",
    "from torch.nn import TransformerEncoder, TransformerEncoderLayer\n",
    "from torch.utils.data import dataset\n",
    "\n",
    "# torchtext\n",
    "import torchtext\n",
    "from torchtext.datasets import WikiText2\n",
    "from torchtext.data.utils import get_tokenizer\n",
    "from torchtext.vocab import build_vocab_from_iterator\n",
    "\n",
    "seed = 211\n",
    "np.random.seed(seed)\n",
    "torch.manual_seed(seed)"
   ]
  },
  {
   "cell_type": "code",
   "execution_count": 135,
   "metadata": {
    "ExecuteTime": {
     "end_time": "2023-06-04T07:24:22.727908Z",
     "start_time": "2023-06-04T07:24:22.693788Z"
    }
   },
   "outputs": [
    {
     "data": {
      "text/plain": "<torch._C.Generator at 0x7f78e0be5d38>"
     },
     "execution_count": 135,
     "metadata": {},
     "output_type": "execute_result"
    }
   ],
   "source": [
    "print(f'pytorch: {torch.__version__}, torchtext: {torchtext.__version__}')"
   ]
  },
  {
   "cell_type": "markdown",
   "metadata": {
    "slideshow": {
     "slide_type": "slide"
    },
    "ExecuteTime": {
     "end_time": "2023-06-04T07:24:22.755889Z",
     "start_time": "2023-06-04T07:24:22.704226Z"
    }
   },
   "source": [
    "## <img src=\"https://img.icons8.com/bubbles/50/000000/workflow.png\" style=\"height:50px;display:inline\">  Sequence-to-Sequence with Transformers\n",
    "---\n",
    "* In this exercise, you are going to build a language model using PyTroch's Transformer module.\n",
    "* We will work with the **Wikitext-2** dataset: the WikiText language modeling dataset is a collection of over 100 million tokens extracted from the set of verified Good and Featured articles on Wikipedia.\n",
    "* After training, you will be able to generate senetences!"
   ],
   "outputs": [
    {
     "name": "stdout",
     "output_type": "stream",
     "text": [
      "pytorch: 1.10.2, torchtext: 0.11.2\n"
     ]
    }
   ],
   "execution_count": 136
  },
  {
   "cell_type": "markdown",
   "metadata": {},
   "source": [
    "### <img src=\"https://img.icons8.com/color/48/000000/code.png\" style=\"height:50px;display:inline\"> Task 1  - Loading and Observing the Data\n",
    "---\n",
    "1. Run the following cells that define the functions `batchify` and `data_process` and initialize the tokenizer, vocabulary and the WikiText2 train dataset.\n",
    "2. Create the train, valid and test data using the provided `batchify` function.\n",
    "5. Print the shape of `train_data`, write in a comment the meaning of each dimension (e.g. `# [meaning of dim1, meaning of dim2]`).\n",
    "6. Print the first 20 words of one training sample from `train_data`. Use the vocabulary you built to transfer between tokens to words: `itos = vocab.vocab.get_itos()` will give a \"int to string\" list."
   ]
  },
  {
   "cell_type": "code",
   "execution_count": 19,
   "metadata": {
    "ExecuteTime": {
     "end_time": "2023-06-03T13:19:55.072202Z",
     "start_time": "2023-06-03T13:19:55.045902Z"
    }
   },
   "outputs": [],
   "source": [
    "def batchify(data, bsz):\n",
    "    \"\"\"Divides the data into bsz separate sequences, removing extra elements\n",
    "    that wouldn't cleanly fit.\n",
    "\n",
    "    Args:\n",
    "        data: Tensor, shape [N]\n",
    "        bsz: int, batch size\n",
    "\n",
    "    Returns:\n",
    "        Tensor of shape [N // bsz, bsz]\n",
    "    \"\"\"\n",
    "    seq_len = data.size(0) // bsz\n",
    "    data = data[:seq_len * bsz]\n",
    "    data = data.view(bsz, seq_len).t().contiguous()\n",
    "    return data.to(device)"
   ]
  },
  {
   "cell_type": "code",
   "execution_count": 137,
   "metadata": {
    "ExecuteTime": {
     "end_time": "2023-06-04T07:24:22.757378Z",
     "start_time": "2023-06-04T07:24:22.708112Z"
    }
   },
   "outputs": [],
   "source": [
    "def data_process(raw_text_iter: dataset.IterableDataset) -> Tensor:\n",
    "    \"\"\"Converts raw text into a flat Tensor.\"\"\"\n",
    "    data = [torch.tensor(vocab(tokenizer(item)), dtype=torch.long) for item in raw_text_iter]\n",
    "    return torch.cat(tuple(filter(lambda t: t.numel() > 0, data)))"
   ]
  },
  {
   "cell_type": "code",
   "execution_count": 138,
   "metadata": {
    "ExecuteTime": {
     "end_time": "2023-06-04T07:24:22.758147Z",
     "start_time": "2023-06-04T07:24:22.711522Z"
    }
   },
   "outputs": [],
   "source": [
    "train_iter = WikiText2(split='train')\n",
    "tokenizer = get_tokenizer('basic_english')\n",
    "vocab = build_vocab_from_iterator(map(tokenizer, train_iter), specials=['<unk>'])\n",
    "vocab.set_default_index(vocab['<unk>'])"
   ]
  },
  {
   "cell_type": "code",
   "execution_count": 139,
   "metadata": {
    "ExecuteTime": {
     "end_time": "2023-06-04T07:24:23.906217Z",
     "start_time": "2023-06-04T07:24:22.715214Z"
    }
   },
   "outputs": [],
   "source": [
    "# train_iter was \"consumed\" by the process of building the vocab,\n",
    "# so we have to create it again\n",
    "train_iter, val_iter, test_iter = WikiText2()\n",
    "train_data = data_process(train_iter)\n",
    "val_data = data_process(val_iter)\n",
    "test_data = data_process(test_iter)\n",
    "\n",
    "device = torch.device('cuda:0' if torch.cuda.is_available() else 'cpu')"
   ]
  },
  {
   "cell_type": "code",
   "execution_count": 140,
   "metadata": {
    "ExecuteTime": {
     "end_time": "2023-06-04T07:24:25.390358Z",
     "start_time": "2023-06-04T07:24:23.894950Z"
    }
   },
   "outputs": [],
   "source": [
    "batch_size = 20\n",
    "eval_batch_size = 10"
   ]
  },
  {
   "cell_type": "code",
   "execution_count": 141,
   "metadata": {
    "ExecuteTime": {
     "end_time": "2023-06-04T07:24:25.390926Z",
     "start_time": "2023-06-04T07:24:25.372665Z"
    }
   },
   "outputs": [],
   "source": [
    "\"\"\"\n",
    "Your Code Here\n",
    "\"\"\"\n",
    "train_data = # complete\n",
    "val_data = # complete\n",
    "test_data = # complete"
   ]
  },
  {
   "cell_type": "markdown",
   "metadata": {
    "ExecuteTime": {
     "end_time": "2023-06-04T07:24:25.409869Z",
     "start_time": "2023-06-04T07:24:25.378149Z"
    }
   },
   "source": [
    "### <img src=\"https://img.icons8.com/color/48/000000/code.png\" style=\"height:50px;display:inline\"> Task 2  - Preparing the  Data - Separating to Inputs and Targets\n",
    "---\n",
    "* For a language modeling task, the model needs the following words as `Target`.\n",
    "    * For example, for the senetence \"I have a nice dog\", the model will be given \"I have a nice\" as input, and \"have a nice dog\" as the target.\n",
    "* Implement (complete) the function `get_batch(source, i, bptt)`: it generates the input and target sequence for the transformer model. It subdivides the source data into chunks of length `bptt`.\n",
    "    * For example, for `bptt=2` and at `i=0`, the output of `data, target = get_batch(train_data, i=0, bptt=2)`: `data` will be of shape (2, 20), where the batch size is 20 and `target` will be of length 40 (the target for each element is two words, but we flatten `target`).\n",
    "    * Example: for `bptt=2`, and the ABCDEFG... characters as input, our batches will be in the form of: `data=[a, b], target=[b, c]`. For `bptt=3`: `data=[a, b, c], target=[b, c, d]` and so on. This one example is a batch.\n",
    "    * Print a sample from `data` and `target`."
   ],
   "outputs": [
    {
     "name": "stdout",
     "output_type": "stream",
     "text": [
      "Train Dataset shape is = torch.Size([102499, 20])\n",
      "First 20 words = = all party major modern polygamist , present arrangement trying <unk> military offering the and or while escaping receive the\n"
     ]
    }
   ],
   "execution_count": 142
  },
  {
   "cell_type": "code",
   "execution_count": 25,
   "metadata": {
    "ExecuteTime": {
     "end_time": "2023-06-03T13:19:57.732763Z",
     "start_time": "2023-06-03T13:19:57.730493Z"
    }
   },
   "outputs": [
    {
     "name": "stdout",
     "output_type": "stream",
     "text": [
      "Sample Data = =\n",
      "Sample Data = valkyria\n",
      "\n",
      "\n",
      "Sample Target = valkyria\n",
      "Sample Target = chronicles\n"
     ]
    }
   ],
   "source": [
    "\"\"\"\n",
    "Your Code Here\n",
    "\"\"\"\n",
    "def get_batch(source, i, bptt):\n",
    "    \"\"\"\n",
    "    Args:\n",
    "        source: Tensor, shape [full_seq_len, batch_size]\n",
    "        i: int\n",
    "        bptt: int\n",
    "    Returns:\n",
    "        tuple (data, target), where data has shape [seq_len, batch_size] and\n",
    "        target has shape [seq_len * batch_size]\n",
    "    \"\"\"\n",
    "    seq_len = min(bptt, len(source) - 1 - i)\n",
    "    data = source[i:i + seq_len]\n",
    "    target = # compelte\n",
    "    return data, target"
   ]
  },
  {
   "cell_type": "markdown",
   "metadata": {
    "ExecuteTime": {
     "end_time": "2023-06-04T07:24:25.417386Z",
     "start_time": "2023-06-04T07:24:25.395942Z"
    }
   },
   "source": [
    "### <img src=\"https://img.icons8.com/color/48/000000/code.png\" style=\"height:50px;display:inline\"> Task 3  - Define Hyperparameters and Initialize the Model\n",
    "---\n",
    "* Define the following hyperparameters (`[a, b]` means in the range between `a` and `b`):\n",
    "    * Embedding size: choose from `[200, 250]`\n",
    "    * Number of hidden units: choose from `[200, 250]`\n",
    "    * Number of layers: choose from `[2, 4]`\n",
    "    * Number of attention heads: choose from `[2, 4]`\n",
    "    * Dropout: choose from `[0.0, 0.3]`\n",
    "    * Loss criterion: `nn.CrossEntropyLoss()`\n",
    "    * Optimizer: choose from `[SGD, Adam, RAdam]`\n",
    "    * Learning rate: choose from `[5e-3, 5.0]`\n",
    "    * Learning Scheduler: `torch.optim.lr_scheduler.StepLR(optimizer, 1.0, gamma=0.95)` or any scheduler of your choosing.\n",
    "    * Transformer LayerNormalization: `post` (`norm_first=False`) or `pre` (`norm_first=True`).\n",
    "* Intialize an instance of `TransformerModel` (given) and send it to `device`. Note that you need to give it the number of tokens to define the output of the decoder. You should use the number of tokens in the vocabulary. Print the number of tokens,  print **all** the chosen hyper-parameters and print the model (`print(model`)."
   ],
   "outputs": [
    {
     "name": "stdout",
     "output_type": "stream",
     "text": [
      "Data Sample: valkyria chronicles iii = senjō no valkyria 3 <unk> chronicles\n",
      "Target Sample: chronicles iii = senjō no valkyria 3 <unk> chronicles (\n"
     ]
    }
   ],
   "execution_count": 143
  },
  {
   "cell_type": "code",
   "execution_count": 26,
   "metadata": {
    "ExecuteTime": {
     "end_time": "2023-06-03T13:19:57.758763Z",
     "start_time": "2023-06-03T13:19:57.732959Z"
    }
   },
   "outputs": [],
   "source": [
    "class PositionalEncoding(nn.Module):\n",
    "\n",
    "    def __init__(self, d_model, dropout=0.1, max_len=5000):\n",
    "        super(PositionalEncoding, self).__init__()\n",
    "        self.dropout = nn.Dropout(p=dropout)\n",
    "\n",
    "        pe = torch.zeros(max_len, d_model)\n",
    "        position = torch.arange(0, max_len, dtype=torch.float).unsqueeze(1)\n",
    "        div_term = torch.exp(torch.arange(0, d_model, 2).float() * (-math.log(10000.0) / d_model))\n",
    "        pe[:, 0::2] = torch.sin(position * div_term)\n",
    "        pe[:, 1::2] = torch.cos(position * div_term)\n",
    "        pe = pe.unsqueeze(0).transpose(0, 1)\n",
    "        self.register_buffer('pe', pe)\n",
    "\n",
    "    def forward(self, x):\n",
    "        x = x + self.pe[:x.size(0), :]\n",
    "        return self.dropout(x)\n",
    "    \n",
    "class TransformerModel(nn.Module):\n",
    "\n",
    "    def __init__(self, ntoken, ninp, nhead, nhid, nlayers, dropout=0.5, norm_first=False):\n",
    "        super(TransformerModel, self).__init__()\n",
    "        self.pos_encoder = PositionalEncoding(ninp, dropout)\n",
    "        encoder_layers = TransformerEncoderLayer(ninp, nhead, nhid, dropout, norm_first=norm_first)\n",
    "        self.transformer_encoder = TransformerEncoder(encoder_layers, nlayers)\n",
    "        self.encoder = nn.Embedding(ntoken, ninp)\n",
    "        self.ninp = ninp\n",
    "        self.decoder = nn.Linear(ninp, ntoken)\n",
    "\n",
    "        self.init_weights()\n",
    "\n",
    "    def generate_square_subsequent_mask(self, sz):\n",
    "        mask = (torch.triu(torch.ones(sz, sz)) == 1).transpose(0, 1)\n",
    "        mask = mask.float().masked_fill(mask == 0, float('-inf')).masked_fill(mask == 1, float(0.0))\n",
    "        return mask\n",
    "\n",
    "    def init_weights(self):\n",
    "        initrange = 0.1\n",
    "        self.encoder.weight.data.uniform_(-initrange, initrange)\n",
    "        self.decoder.bias.data.zero_()\n",
    "        self.decoder.weight.data.uniform_(-initrange, initrange)\n",
    "\n",
    "    def forward(self, src, src_mask):\n",
    "        src = self.encoder(src) * math.sqrt(self.ninp)\n",
    "        src = self.pos_encoder(src)\n",
    "        output = self.transformer_encoder(src, src_mask)\n",
    "        output = self.decoder(output)\n",
    "        return output"
   ]
  },
  {
   "cell_type": "code",
   "execution_count": 144,
   "metadata": {
    "ExecuteTime": {
     "end_time": "2023-06-04T07:24:25.417552Z",
     "start_time": "2023-06-04T07:24:25.410112Z"
    }
   },
   "outputs": [],
   "source": [
    "\"\"\"\n",
    "Your Code Here\n",
    "\"\"\""
   ]
  },
  {
   "cell_type": "markdown",
   "metadata": {
    "ExecuteTime": {
     "end_time": "2023-06-04T08:12:47.752945Z",
     "start_time": "2023-06-04T08:12:47.567967Z"
    }
   },
   "source": [
    "### <img src=\"https://img.icons8.com/color/48/000000/code.png\" style=\"height:50px;display:inline\"> Task 4  - Train and Evaluate the Language Model\n",
    "---\n",
    "* Fill in the missing line in the training code and train the model.\n",
    "* Use `bptt=35`.\n",
    "* Use the provided function to evaluate it on the validatation set (after each epoch) and on test test (after training is done). **Print and plot** the results (loss and perplexity).\n",
    "* If you see that the performance does not improve, go back to Task 3 and re-think you hyper-parameters."
   ],
   "outputs": [
    {
     "name": "stdout",
     "output_type": "stream",
     "text": [
      "Number of Tokens = 28782\n",
      "Embedding Size = 240\n",
      "Num of hidden units = 220\n",
      "Num of layers = 3\n",
      "Num of attention heads = 2\n",
      "Dropout = 0.2\n",
      "Learning Rate = 0.1\n",
      "Optimizer = Adam\n",
      "Scheduler = StepLR\n",
      "Pre transformer layer normalization = False\n",
      "\n",
      "\n",
      "Model =\n",
      "TransformerModel(\n",
      "  (pos_encoder): PositionalEncoding(\n",
      "    (dropout): Dropout(p=0.2, inplace=False)\n",
      "  )\n",
      "  (transformer_encoder): TransformerEncoder(\n",
      "    (layers): ModuleList(\n",
      "      (0): TransformerEncoderLayer(\n",
      "        (self_attn): MultiheadAttention(\n",
      "          (out_proj): NonDynamicallyQuantizableLinear(in_features=240, out_features=240, bias=True)\n",
      "        )\n",
      "        (linear1): Linear(in_features=240, out_features=220, bias=True)\n",
      "        (dropout): Dropout(p=0.2, inplace=False)\n",
      "        (linear2): Linear(in_features=220, out_features=240, bias=True)\n",
      "        (norm1): LayerNorm((240,), eps=1e-05, elementwise_affine=True)\n",
      "        (norm2): LayerNorm((240,), eps=1e-05, elementwise_affine=True)\n",
      "        (dropout1): Dropout(p=0.2, inplace=False)\n",
      "        (dropout2): Dropout(p=0.2, inplace=False)\n",
      "      )\n",
      "      (1): TransformerEncoderLayer(\n",
      "        (self_attn): MultiheadAttention(\n",
      "          (out_proj): NonDynamicallyQuantizableLinear(in_features=240, out_features=240, bias=True)\n",
      "        )\n",
      "        (linear1): Linear(in_features=240, out_features=220, bias=True)\n",
      "        (dropout): Dropout(p=0.2, inplace=False)\n",
      "        (linear2): Linear(in_features=220, out_features=240, bias=True)\n",
      "        (norm1): LayerNorm((240,), eps=1e-05, elementwise_affine=True)\n",
      "        (norm2): LayerNorm((240,), eps=1e-05, elementwise_affine=True)\n",
      "        (dropout1): Dropout(p=0.2, inplace=False)\n",
      "        (dropout2): Dropout(p=0.2, inplace=False)\n",
      "      )\n",
      "      (2): TransformerEncoderLayer(\n",
      "        (self_attn): MultiheadAttention(\n",
      "          (out_proj): NonDynamicallyQuantizableLinear(in_features=240, out_features=240, bias=True)\n",
      "        )\n",
      "        (linear1): Linear(in_features=240, out_features=220, bias=True)\n",
      "        (dropout): Dropout(p=0.2, inplace=False)\n",
      "        (linear2): Linear(in_features=220, out_features=240, bias=True)\n",
      "        (norm1): LayerNorm((240,), eps=1e-05, elementwise_affine=True)\n",
      "        (norm2): LayerNorm((240,), eps=1e-05, elementwise_affine=True)\n",
      "        (dropout1): Dropout(p=0.2, inplace=False)\n",
      "        (dropout2): Dropout(p=0.2, inplace=False)\n",
      "      )\n",
      "    )\n",
      "  )\n",
      "  (encoder): Embedding(28782, 240)\n",
      "  (decoder): Linear(in_features=240, out_features=28782, bias=True)\n",
      ")\n"
     ]
    }
   ],
   "execution_count": 149
  },
  {
   "cell_type": "code",
   "execution_count": 28,
   "metadata": {
    "ExecuteTime": {
     "end_time": "2023-06-03T13:19:57.904026Z",
     "start_time": "2023-06-03T13:19:57.902096Z"
    }
   },
   "outputs": [],
   "source": [
    "def evaluate(model, eval_data):\n",
    "    model.eval()  # turn on evaluation mode\n",
    "    total_loss = 0.\n",
    "    src_mask = model.generate_square_subsequent_mask(bptt).to(device)\n",
    "    with torch.no_grad():\n",
    "        for i in range(0, eval_data.size(0) - 1, bptt):\n",
    "            data, targets = get_batch(eval_data, i, bptt)\n",
    "            seq_len = data.size(0)\n",
    "            if seq_len != bptt:\n",
    "                src_mask = src_mask[:seq_len, :seq_len]\n",
    "            output = model(data, src_mask)\n",
    "            output_flat = output.view(-1, ntokens)\n",
    "            total_loss += seq_len * criterion(output_flat, targets).item()\n",
    "    return total_loss / (len(eval_data) - 1)"
   ]
  },
  {
   "cell_type": "code",
   "execution_count": 150,
   "metadata": {
    "ExecuteTime": {
     "end_time": "2023-06-04T08:12:50.169777Z",
     "start_time": "2023-06-04T08:12:50.135696Z"
    }
   },
   "outputs": [],
   "source": [
    "\"\"\"\n",
    "Your Code Here\n",
    "\"\"\"\n",
    "def train(model, bptt):\n",
    "    model.train()  # turn on train mode\n",
    "    total_loss = 0.\n",
    "    log_interval = 200\n",
    "    start_time = time.time()\n",
    "    src_mask = model.generate_square_subsequent_mask(bptt).to(device)\n",
    "\n",
    "    num_batches = len(train_data) // bptt\n",
    "    for batch, i in enumerate(range(0, train_data.size(0) - 1, bptt)):\n",
    "        data, targets = get_batch(train_data, i, bptt)\n",
    "        seq_len = data.size(0)\n",
    "        if seq_len != bptt:  # only on last batch\n",
    "            src_mask = src_mask[:seq_len, :seq_len]\n",
    "        output = # complete\n",
    "        loss = # complete\n",
    "\n",
    "        optimizer.zero_grad()\n",
    "        loss.backward()\n",
    "        torch.nn.utils.clip_grad_norm_(model.parameters(), 0.5)\n",
    "        optimizer.step()\n",
    "\n",
    "        total_loss += loss.item()\n",
    "        if batch % log_interval == 0 and batch > 0:\n",
    "            lr = scheduler.get_last_lr()[0]\n",
    "            ms_per_batch = (time.time() - start_time) * 1000 / log_interval\n",
    "            cur_loss = total_loss / log_interval\n",
    "            ppl = math.exp(cur_loss)\n",
    "            print(f'| epoch {epoch:3d} | {batch:5d}/{num_batches:5d} batches | '\n",
    "                  f'lr {lr:02.2f} | ms/batch {ms_per_batch:5.2f} | '\n",
    "                  f'loss {cur_loss:5.2f} | ppl {ppl:8.2f}')\n",
    "            total_loss = 0\n",
    "            start_time = time.time()"
   ]
  },
  {
   "cell_type": "code",
   "execution_count": 151,
   "metadata": {
    "ExecuteTime": {
     "end_time": "2023-06-04T08:12:51.796476Z",
     "start_time": "2023-06-04T08:12:51.775658Z"
    }
   },
   "outputs": [],
   "source": [
    "\"\"\"\n",
    "Your Code Here\n",
    "\"\"\"\n",
    "best_val_loss = float(\"inf\")\n",
    "epochs = # complete the number of epochs to run\n",
    "best_model = None\n",
    "bptt = 35\n",
    "\n",
    "for epoch in range(1, epochs + 1):\n",
    "    epoch_start_time = time.time()\n",
    "    # complete: call train() here with appropriate paramteters\n",
    "    val_loss = evaluate(model, val_data)\n",
    "    print('-' * 89)\n",
    "    print('| end of epoch {:3d} | time: {:5.2f}s | valid loss {:5.2f} | '\n",
    "          'valid ppl {:8.2f}'.format(epoch, (time.time() - epoch_start_time),\n",
    "                                     val_loss, math.exp(val_loss)))\n",
    "    print('-' * 89)\n",
    "\n",
    "    if val_loss < best_val_loss:\n",
    "        best_val_loss = val_loss\n",
    "        best_model = model\n",
    "\n",
    "    scheduler.step()"
   ]
  },
  {
   "cell_type": "markdown",
   "metadata": {
    "ExecuteTime": {
     "end_time": "2023-06-04T15:47:40.688649Z",
     "start_time": "2023-06-04T08:12:54.199557Z"
    }
   },
   "source": [
    "### <img src=\"https://img.icons8.com/color/48/000000/code.png\" style=\"height:50px;display:inline\"> Task 5  - Generate Sentences\n",
    "---\n",
    "Use the following function to generate 3 sentences of length 20, and print them. Do they make sense? (you can compare generated sentences over epochs, to see if some logic is gained during training)."
   ],
   "outputs": [
    {
     "name": "stderr",
     "output_type": "stream",
     "text": [
      "  0%|          | 0/10 [00:00<?, ?it/s]"
     ]
    },
    {
     "name": "stdout",
     "output_type": "stream",
     "text": [
      "| epoch   1 |   200/ 2928 batches | lr 0.10 | ms/batch 903.54 | loss  8.39 | ppl  4420.12\n",
      "| epoch   1 |   400/ 2928 batches | lr 0.10 | ms/batch 899.61 | loss  7.08 | ppl  1193.58\n",
      "| epoch   1 |   600/ 2928 batches | lr 0.10 | ms/batch 895.82 | loss  7.09 | ppl  1201.68\n",
      "| epoch   1 |   800/ 2928 batches | lr 0.10 | ms/batch 894.28 | loss  7.12 | ppl  1240.46\n",
      "| epoch   1 |  1000/ 2928 batches | lr 0.10 | ms/batch 893.66 | loss  7.13 | ppl  1253.01\n",
      "| epoch   1 |  1200/ 2928 batches | lr 0.10 | ms/batch 893.63 | loss  7.17 | ppl  1297.20\n",
      "| epoch   1 |  1400/ 2928 batches | lr 0.10 | ms/batch 895.24 | loss  7.21 | ppl  1349.10\n",
      "| epoch   1 |  1600/ 2928 batches | lr 0.10 | ms/batch 894.14 | loss  7.18 | ppl  1312.22\n",
      "| epoch   1 |  1800/ 2928 batches | lr 0.10 | ms/batch 894.54 | loss  7.17 | ppl  1298.67\n",
      "| epoch   1 |  2000/ 2928 batches | lr 0.10 | ms/batch 894.55 | loss  7.21 | ppl  1350.10\n",
      "| epoch   1 |  2200/ 2928 batches | lr 0.10 | ms/batch 893.20 | loss  7.16 | ppl  1292.71\n",
      "| epoch   1 |  2400/ 2928 batches | lr 0.10 | ms/batch 893.66 | loss  7.21 | ppl  1357.37\n",
      "| epoch   1 |  2600/ 2928 batches | lr 0.10 | ms/batch 895.03 | loss  7.22 | ppl  1366.37\n",
      "| epoch   1 |  2800/ 2928 batches | lr 0.10 | ms/batch 896.53 | loss  7.18 | ppl  1315.86\n"
     ]
    },
    {
     "name": "stderr",
     "output_type": "stream",
     "text": [
      " 10%|█         | 1/10 [45:14<6:47:13, 2714.80s/it]"
     ]
    },
    {
     "name": "stdout",
     "output_type": "stream",
     "text": [
      "-----------------------------------------------------------------------------------------\n",
      "| end of epoch   1 | time: 2714.80s | valid loss  7.23 | valid ppl  1375.16\n",
      "-----------------------------------------------------------------------------------------\n",
      "| epoch   2 |   200/ 2928 batches | lr 0.10 | ms/batch 900.29 | loss  7.06 | ppl  1165.04\n",
      "| epoch   2 |   400/ 2928 batches | lr 0.10 | ms/batch 896.37 | loss  7.15 | ppl  1271.28\n",
      "| epoch   2 |   600/ 2928 batches | lr 0.10 | ms/batch 898.81 | loss  7.14 | ppl  1260.72\n",
      "| epoch   2 |   800/ 2928 batches | lr 0.10 | ms/batch 897.32 | loss  7.24 | ppl  1390.73\n",
      "| epoch   2 |  1000/ 2928 batches | lr 0.10 | ms/batch 896.53 | loss  7.30 | ppl  1485.71\n",
      "| epoch   2 |  1200/ 2928 batches | lr 0.10 | ms/batch 895.76 | loss  7.42 | ppl  1668.27\n",
      "| epoch   2 |  1400/ 2928 batches | lr 0.10 | ms/batch 895.35 | loss  7.44 | ppl  1697.47\n",
      "| epoch   2 |  1600/ 2928 batches | lr 0.10 | ms/batch 895.32 | loss  7.47 | ppl  1749.55\n",
      "| epoch   2 |  1800/ 2928 batches | lr 0.10 | ms/batch 894.29 | loss  7.57 | ppl  1930.74\n",
      "| epoch   2 |  2000/ 2928 batches | lr 0.10 | ms/batch 896.03 | loss  7.55 | ppl  1908.00\n",
      "| epoch   2 |  2200/ 2928 batches | lr 0.10 | ms/batch 893.69 | loss  7.56 | ppl  1917.21\n",
      "| epoch   2 |  2400/ 2928 batches | lr 0.10 | ms/batch 894.40 | loss  7.68 | ppl  2174.47\n",
      "| epoch   2 |  2600/ 2928 batches | lr 0.10 | ms/batch 896.67 | loss  7.67 | ppl  2150.32\n",
      "| epoch   2 |  2800/ 2928 batches | lr 0.10 | ms/batch 890.59 | loss  7.75 | ppl  2324.53\n"
     ]
    },
    {
     "name": "stderr",
     "output_type": "stream",
     "text": [
      " 20%|██        | 2/10 [1:30:27<6:01:48, 2713.62s/it]"
     ]
    },
    {
     "name": "stdout",
     "output_type": "stream",
     "text": [
      "-----------------------------------------------------------------------------------------\n",
      "| end of epoch   2 | time: 2712.80s | valid loss  8.39 | valid ppl  4422.38\n",
      "-----------------------------------------------------------------------------------------\n",
      "| epoch   3 |   200/ 2928 batches | lr 0.05 | ms/batch 888.09 | loss  7.23 | ppl  1381.29\n",
      "| epoch   3 |   400/ 2928 batches | lr 0.05 | ms/batch 888.80 | loss  7.19 | ppl  1332.59\n",
      "| epoch   3 |   600/ 2928 batches | lr 0.05 | ms/batch 890.76 | loss  7.13 | ppl  1243.92\n",
      "| epoch   3 |   800/ 2928 batches | lr 0.05 | ms/batch 893.22 | loss  7.13 | ppl  1249.46\n",
      "| epoch   3 |  1000/ 2928 batches | lr 0.05 | ms/batch 893.24 | loss  7.16 | ppl  1289.90\n",
      "| epoch   3 |  1200/ 2928 batches | lr 0.05 | ms/batch 892.19 | loss  7.17 | ppl  1300.05\n",
      "| epoch   3 |  1400/ 2928 batches | lr 0.05 | ms/batch 894.28 | loss  7.20 | ppl  1343.14\n",
      "| epoch   3 |  1600/ 2928 batches | lr 0.05 | ms/batch 893.40 | loss  7.21 | ppl  1352.75\n",
      "| epoch   3 |  1800/ 2928 batches | lr 0.05 | ms/batch 895.60 | loss  7.21 | ppl  1349.66\n",
      "| epoch   3 |  2000/ 2928 batches | lr 0.05 | ms/batch 895.24 | loss  7.23 | ppl  1384.87\n",
      "| epoch   3 |  2200/ 2928 batches | lr 0.05 | ms/batch 894.18 | loss  7.22 | ppl  1363.42\n",
      "| epoch   3 |  2400/ 2928 batches | lr 0.05 | ms/batch 894.43 | loss  7.27 | ppl  1442.76\n",
      "| epoch   3 |  2600/ 2928 batches | lr 0.05 | ms/batch 893.41 | loss  7.25 | ppl  1408.92\n",
      "| epoch   3 |  2800/ 2928 batches | lr 0.05 | ms/batch 895.70 | loss  7.23 | ppl  1379.39\n"
     ]
    },
    {
     "name": "stderr",
     "output_type": "stream",
     "text": [
      " 30%|███       | 3/10 [2:15:35<5:16:15, 2710.78s/it]"
     ]
    },
    {
     "name": "stdout",
     "output_type": "stream",
     "text": [
      "-----------------------------------------------------------------------------------------\n",
      "| end of epoch   3 | time: 2707.41s | valid loss  7.61 | valid ppl  2011.36\n",
      "-----------------------------------------------------------------------------------------\n",
      "| epoch   4 |   200/ 2928 batches | lr 0.05 | ms/batch 898.22 | loss  6.99 | ppl  1089.26\n",
      "| epoch   4 |   400/ 2928 batches | lr 0.05 | ms/batch 895.56 | loss  7.01 | ppl  1108.44\n",
      "| epoch   4 |   600/ 2928 batches | lr 0.05 | ms/batch 893.98 | loss  6.93 | ppl  1027.40\n",
      "| epoch   4 |   800/ 2928 batches | lr 0.05 | ms/batch 896.39 | loss  6.99 | ppl  1083.87\n",
      "| epoch   4 |  1000/ 2928 batches | lr 0.05 | ms/batch 893.82 | loss  6.99 | ppl  1089.65\n",
      "| epoch   4 |  1200/ 2928 batches | lr 0.05 | ms/batch 895.36 | loss  7.04 | ppl  1147.07\n",
      "| epoch   4 |  1400/ 2928 batches | lr 0.05 | ms/batch 895.23 | loss  7.05 | ppl  1149.56\n",
      "| epoch   4 |  1600/ 2928 batches | lr 0.05 | ms/batch 894.61 | loss  7.03 | ppl  1133.90\n",
      "| epoch   4 |  1800/ 2928 batches | lr 0.05 | ms/batch 894.72 | loss  7.07 | ppl  1181.92\n",
      "| epoch   4 |  2000/ 2928 batches | lr 0.05 | ms/batch 886.91 | loss  7.08 | ppl  1183.95\n",
      "| epoch   4 |  2200/ 2928 batches | lr 0.05 | ms/batch 882.97 | loss  7.02 | ppl  1122.46\n",
      "| epoch   4 |  2400/ 2928 batches | lr 0.05 | ms/batch 882.36 | loss  7.03 | ppl  1134.80\n",
      "| epoch   4 |  2600/ 2928 batches | lr 0.05 | ms/batch 886.50 | loss  7.04 | ppl  1146.17\n",
      "| epoch   4 |  2800/ 2928 batches | lr 0.05 | ms/batch 891.60 | loss  7.05 | ppl  1150.49\n"
     ]
    },
    {
     "name": "stderr",
     "output_type": "stream",
     "text": [
      " 40%|████      | 4/10 [3:00:38<4:30:48, 2708.07s/it]"
     ]
    },
    {
     "name": "stdout",
     "output_type": "stream",
     "text": [
      "-----------------------------------------------------------------------------------------\n",
      "| end of epoch   4 | time: 2703.91s | valid loss  7.52 | valid ppl  1847.38\n",
      "-----------------------------------------------------------------------------------------\n",
      "| epoch   5 |   200/ 2928 batches | lr 0.03 | ms/batch 898.84 | loss  6.98 | ppl  1070.59\n",
      "| epoch   5 |   400/ 2928 batches | lr 0.03 | ms/batch 894.97 | loss  7.06 | ppl  1158.79\n",
      "| epoch   5 |   600/ 2928 batches | lr 0.03 | ms/batch 896.85 | loss  6.98 | ppl  1074.36\n",
      "| epoch   5 |   800/ 2928 batches | lr 0.03 | ms/batch 884.75 | loss  7.03 | ppl  1129.16\n",
      "| epoch   5 |  1000/ 2928 batches | lr 0.03 | ms/batch 883.28 | loss  7.00 | ppl  1095.45\n",
      "| epoch   5 |  1200/ 2928 batches | lr 0.03 | ms/batch 884.58 | loss  7.07 | ppl  1173.55\n",
      "| epoch   5 |  1400/ 2928 batches | lr 0.03 | ms/batch 886.50 | loss  7.05 | ppl  1158.18\n",
      "| epoch   5 |  1600/ 2928 batches | lr 0.03 | ms/batch 889.40 | loss  7.04 | ppl  1146.18\n",
      "| epoch   5 |  1800/ 2928 batches | lr 0.03 | ms/batch 890.17 | loss  7.05 | ppl  1149.65\n",
      "| epoch   5 |  2000/ 2928 batches | lr 0.03 | ms/batch 895.58 | loss  7.04 | ppl  1141.06\n",
      "| epoch   5 |  2200/ 2928 batches | lr 0.03 | ms/batch 895.78 | loss  6.98 | ppl  1072.43\n",
      "| epoch   5 |  2400/ 2928 batches | lr 0.03 | ms/batch 894.19 | loss  7.00 | ppl  1102.05\n",
      "| epoch   5 |  2600/ 2928 batches | lr 0.03 | ms/batch 894.84 | loss  7.05 | ppl  1149.09\n",
      "| epoch   5 |  2800/ 2928 batches | lr 0.03 | ms/batch 895.08 | loss  6.96 | ppl  1058.23\n"
     ]
    },
    {
     "name": "stderr",
     "output_type": "stream",
     "text": [
      " 50%|█████     | 5/10 [3:45:42<3:45:32, 2706.42s/it]"
     ]
    },
    {
     "name": "stdout",
     "output_type": "stream",
     "text": [
      "-----------------------------------------------------------------------------------------\n",
      "| end of epoch   5 | time: 2703.48s | valid loss  7.46 | valid ppl  1729.99\n",
      "-----------------------------------------------------------------------------------------\n",
      "| epoch   6 |   200/ 2928 batches | lr 0.03 | ms/batch 899.68 | loss  6.85 | ppl   945.28\n",
      "| epoch   6 |   400/ 2928 batches | lr 0.03 | ms/batch 896.36 | loss  6.92 | ppl  1011.68\n",
      "| epoch   6 |   600/ 2928 batches | lr 0.03 | ms/batch 895.58 | loss  6.84 | ppl   933.61\n",
      "| epoch   6 |   800/ 2928 batches | lr 0.03 | ms/batch 895.81 | loss  6.92 | ppl  1008.12\n",
      "| epoch   6 |  1000/ 2928 batches | lr 0.03 | ms/batch 895.16 | loss  6.91 | ppl   997.91\n",
      "| epoch   6 |  1200/ 2928 batches | lr 0.03 | ms/batch 895.81 | loss  6.97 | ppl  1065.22\n",
      "| epoch   6 |  1400/ 2928 batches | lr 0.03 | ms/batch 895.85 | loss  6.96 | ppl  1050.29\n",
      "| epoch   6 |  1600/ 2928 batches | lr 0.03 | ms/batch 897.57 | loss  6.96 | ppl  1054.44\n",
      "| epoch   6 |  1800/ 2928 batches | lr 0.03 | ms/batch 897.32 | loss  6.97 | ppl  1064.98\n",
      "| epoch   6 |  2000/ 2928 batches | lr 0.03 | ms/batch 898.10 | loss  6.95 | ppl  1044.73\n",
      "| epoch   6 |  2200/ 2928 batches | lr 0.03 | ms/batch 897.52 | loss  6.90 | ppl   992.96\n",
      "| epoch   6 |  2400/ 2928 batches | lr 0.03 | ms/batch 897.40 | loss  6.95 | ppl  1043.66\n",
      "| epoch   6 |  2600/ 2928 batches | lr 0.03 | ms/batch 897.84 | loss  6.96 | ppl  1057.10\n",
      "| epoch   6 |  2800/ 2928 batches | lr 0.03 | ms/batch 897.73 | loss  6.93 | ppl  1019.30\n"
     ]
    },
    {
     "name": "stderr",
     "output_type": "stream",
     "text": [
      " 60%|██████    | 6/10 [4:31:01<3:00:42, 2710.71s/it]"
     ]
    },
    {
     "name": "stdout",
     "output_type": "stream",
     "text": [
      "-----------------------------------------------------------------------------------------\n",
      "| end of epoch   6 | time: 2719.03s | valid loss  7.54 | valid ppl  1875.38\n",
      "-----------------------------------------------------------------------------------------\n",
      "| epoch   7 |   200/ 2928 batches | lr 0.01 | ms/batch 899.03 | loss  6.94 | ppl  1036.19\n",
      "| epoch   7 |   400/ 2928 batches | lr 0.01 | ms/batch 890.96 | loss  6.95 | ppl  1048.18\n",
      "| epoch   7 |   600/ 2928 batches | lr 0.01 | ms/batch 883.55 | loss  6.90 | ppl   993.83\n",
      "| epoch   7 |   800/ 2928 batches | lr 0.01 | ms/batch 883.43 | loss  6.93 | ppl  1018.45\n",
      "| epoch   7 |  1000/ 2928 batches | lr 0.01 | ms/batch 891.30 | loss  6.90 | ppl   989.76\n",
      "| epoch   7 |  1200/ 2928 batches | lr 0.01 | ms/batch 887.52 | loss  6.98 | ppl  1071.53\n",
      "| epoch   7 |  1400/ 2928 batches | lr 0.01 | ms/batch 896.49 | loss  6.97 | ppl  1064.54\n",
      "| epoch   7 |  1600/ 2928 batches | lr 0.01 | ms/batch 885.48 | loss  6.97 | ppl  1069.19\n",
      "| epoch   7 |  1800/ 2928 batches | lr 0.01 | ms/batch 897.17 | loss  6.94 | ppl  1035.44\n",
      "| epoch   7 |  2000/ 2928 batches | lr 0.01 | ms/batch 898.67 | loss  6.94 | ppl  1029.96\n",
      "| epoch   7 |  2200/ 2928 batches | lr 0.01 | ms/batch 900.75 | loss  6.90 | ppl   989.59\n",
      "| epoch   7 |  2400/ 2928 batches | lr 0.01 | ms/batch 895.34 | loss  6.93 | ppl  1020.27\n",
      "| epoch   7 |  2600/ 2928 batches | lr 0.01 | ms/batch 896.84 | loss  6.93 | ppl  1022.79\n",
      "| epoch   7 |  2800/ 2928 batches | lr 0.01 | ms/batch 899.17 | loss  6.88 | ppl   975.04\n"
     ]
    },
    {
     "name": "stderr",
     "output_type": "stream",
     "text": [
      " 70%|███████   | 7/10 [5:16:09<2:15:29, 2709.79s/it]"
     ]
    },
    {
     "name": "stdout",
     "output_type": "stream",
     "text": [
      "-----------------------------------------------------------------------------------------\n",
      "| end of epoch   7 | time: 2707.89s | valid loss  7.34 | valid ppl  1547.06\n",
      "-----------------------------------------------------------------------------------------\n",
      "| epoch   8 |   200/ 2928 batches | lr 0.01 | ms/batch 889.34 | loss  6.81 | ppl   909.42\n",
      "| epoch   8 |   400/ 2928 batches | lr 0.01 | ms/batch 884.31 | loss  6.82 | ppl   919.75\n",
      "| epoch   8 |   600/ 2928 batches | lr 0.01 | ms/batch 889.25 | loss  6.77 | ppl   871.12\n",
      "| epoch   8 |   800/ 2928 batches | lr 0.01 | ms/batch 895.31 | loss  6.84 | ppl   937.58\n",
      "| epoch   8 |  1000/ 2928 batches | lr 0.01 | ms/batch 899.33 | loss  6.81 | ppl   905.92\n",
      "| epoch   8 |  1200/ 2928 batches | lr 0.01 | ms/batch 904.84 | loss  6.88 | ppl   975.60\n",
      "| epoch   8 |  1400/ 2928 batches | lr 0.01 | ms/batch 900.89 | loss  6.89 | ppl   984.74\n",
      "| epoch   8 |  1600/ 2928 batches | lr 0.01 | ms/batch 910.79 | loss  6.90 | ppl   995.09\n",
      "| epoch   8 |  1800/ 2928 batches | lr 0.01 | ms/batch 904.91 | loss  6.86 | ppl   949.99\n",
      "| epoch   8 |  2000/ 2928 batches | lr 0.01 | ms/batch 908.93 | loss  6.87 | ppl   967.52\n",
      "| epoch   8 |  2200/ 2928 batches | lr 0.01 | ms/batch 910.39 | loss  6.83 | ppl   923.82\n",
      "| epoch   8 |  2400/ 2928 batches | lr 0.01 | ms/batch 906.97 | loss  6.88 | ppl   970.06\n",
      "| epoch   8 |  2600/ 2928 batches | lr 0.01 | ms/batch 908.58 | loss  6.87 | ppl   959.31\n",
      "| epoch   8 |  2800/ 2928 batches | lr 0.01 | ms/batch 906.01 | loss  6.83 | ppl   928.21\n"
     ]
    },
    {
     "name": "stderr",
     "output_type": "stream",
     "text": [
      " 80%|████████  | 8/10 [6:01:43<1:30:35, 2717.59s/it]"
     ]
    },
    {
     "name": "stdout",
     "output_type": "stream",
     "text": [
      "-----------------------------------------------------------------------------------------\n",
      "| end of epoch   8 | time: 2734.29s | valid loss  7.41 | valid ppl  1655.20\n",
      "-----------------------------------------------------------------------------------------\n",
      "| epoch   9 |   200/ 2928 batches | lr 0.01 | ms/batch 909.73 | loss  6.88 | ppl   972.16\n",
      "| epoch   9 |   400/ 2928 batches | lr 0.01 | ms/batch 903.80 | loss  6.90 | ppl   990.92\n",
      "| epoch   9 |   600/ 2928 batches | lr 0.01 | ms/batch 908.98 | loss  6.82 | ppl   919.30\n",
      "| epoch   9 |   800/ 2928 batches | lr 0.01 | ms/batch 908.31 | loss  6.87 | ppl   963.61\n",
      "| epoch   9 |  1000/ 2928 batches | lr 0.01 | ms/batch 904.96 | loss  6.82 | ppl   918.46\n",
      "| epoch   9 |  1200/ 2928 batches | lr 0.01 | ms/batch 910.56 | loss  6.91 | ppl  1004.26\n",
      "| epoch   9 |  1400/ 2928 batches | lr 0.01 | ms/batch 902.90 | loss  6.90 | ppl   991.61\n",
      "| epoch   9 |  1600/ 2928 batches | lr 0.01 | ms/batch 887.90 | loss  6.89 | ppl   981.42\n",
      "| epoch   9 |  1800/ 2928 batches | lr 0.01 | ms/batch 900.19 | loss  6.85 | ppl   945.07\n",
      "| epoch   9 |  2000/ 2928 batches | lr 0.01 | ms/batch 900.93 | loss  6.89 | ppl   978.08\n",
      "| epoch   9 |  2200/ 2928 batches | lr 0.01 | ms/batch 900.34 | loss  6.82 | ppl   919.48\n",
      "| epoch   9 |  2400/ 2928 batches | lr 0.01 | ms/batch 907.84 | loss  6.86 | ppl   954.67\n",
      "| epoch   9 |  2600/ 2928 batches | lr 0.01 | ms/batch 905.00 | loss  6.84 | ppl   933.18\n",
      "| epoch   9 |  2800/ 2928 batches | lr 0.01 | ms/batch 902.38 | loss  6.84 | ppl   930.35\n"
     ]
    },
    {
     "name": "stderr",
     "output_type": "stream",
     "text": [
      " 90%|█████████ | 9/10 [6:47:23<45:24, 2724.40s/it]  "
     ]
    },
    {
     "name": "stdout",
     "output_type": "stream",
     "text": [
      "-----------------------------------------------------------------------------------------\n",
      "| end of epoch   9 | time: 2739.37s | valid loss  7.17 | valid ppl  1302.24\n",
      "-----------------------------------------------------------------------------------------\n",
      "| epoch  10 |   200/ 2928 batches | lr 0.01 | ms/batch 907.28 | loss  6.78 | ppl   877.61\n",
      "| epoch  10 |   400/ 2928 batches | lr 0.01 | ms/batch 904.65 | loss  6.80 | ppl   896.71\n",
      "| epoch  10 |   600/ 2928 batches | lr 0.01 | ms/batch 903.61 | loss  6.74 | ppl   846.69\n",
      "| epoch  10 |   800/ 2928 batches | lr 0.01 | ms/batch 903.36 | loss  6.79 | ppl   892.58\n",
      "| epoch  10 |  1000/ 2928 batches | lr 0.01 | ms/batch 902.60 | loss  6.76 | ppl   860.38\n",
      "| epoch  10 |  1200/ 2928 batches | lr 0.01 | ms/batch 902.35 | loss  6.85 | ppl   942.93\n",
      "| epoch  10 |  1400/ 2928 batches | lr 0.01 | ms/batch 901.25 | loss  6.83 | ppl   925.85\n",
      "| epoch  10 |  1600/ 2928 batches | lr 0.01 | ms/batch 898.58 | loss  6.83 | ppl   926.50\n",
      "| epoch  10 |  1800/ 2928 batches | lr 0.01 | ms/batch 898.33 | loss  6.79 | ppl   892.83\n",
      "| epoch  10 |  2000/ 2928 batches | lr 0.01 | ms/batch 898.87 | loss  6.83 | ppl   920.85\n",
      "| epoch  10 |  2200/ 2928 batches | lr 0.01 | ms/batch 906.01 | loss  6.77 | ppl   871.56\n",
      "| epoch  10 |  2400/ 2928 batches | lr 0.01 | ms/batch 910.67 | loss  6.80 | ppl   899.84\n",
      "| epoch  10 |  2600/ 2928 batches | lr 0.01 | ms/batch 908.96 | loss  6.78 | ppl   883.68\n",
      "| epoch  10 |  2800/ 2928 batches | lr 0.01 | ms/batch 900.84 | loss  6.79 | ppl   890.30\n"
     ]
    },
    {
     "name": "stderr",
     "output_type": "stream",
     "text": [
      "100%|██████████| 10/10 [7:33:00<00:00, 2718.07s/it]"
     ]
    },
    {
     "name": "stdout",
     "output_type": "stream",
     "text": [
      "-----------------------------------------------------------------------------------------\n",
      "| end of epoch  10 | time: 2737.72s | valid loss  7.21 | valid ppl  1350.35\n",
      "-----------------------------------------------------------------------------------------\n"
     ]
    },
    {
     "name": "stderr",
     "output_type": "stream",
     "text": [
      "\n"
     ]
    },
    {
     "data": {
      "text/plain": "<Figure size 432x288 with 2 Axes>",
      "image/png": "[encoded data removed]"
     },
     "metadata": {
      "needs_background": "light"
     },
     "output_type": "display_data"
    },
    {
     "name": "stdout",
     "output_type": "stream",
     "text": [
      "Test Loss = 7.148878623746916\n",
      "Test PPL = 1272.6780037964272\n"
     ]
    }
   ],
   "execution_count": 152
  },
  {
   "cell_type": "code",
   "execution_count": null,
   "metadata": {},
   "outputs": [],
   "source": [
    "def generate(model, vocab, nwords=100, temp=1.0):\n",
    "    model.eval()\n",
    "    ntokens = len(vocab)\n",
    "    itos = vocab.vocab.get_itos()\n",
    "    model_input = torch.randint(ntokens, (1, 1), dtype=torch.long).to(device)\n",
    "    words = []\n",
    "    with torch.no_grad():\n",
    "        for i in range(nwords):\n",
    "            output = model(model_input, None)\n",
    "            word_weights = output[-1].squeeze().div(temp).exp().cpu()\n",
    "            word_idx = torch.multinomial(word_weights, 1)[0]\n",
    "            word_tensor = torch.Tensor([[word_idx]]).long().to(device)\n",
    "            model_input = torch.cat([model_input, word_tensor], 0)\n",
    "            word = itos[word_idx]\n",
    "            words.append(word)\n",
    "    return words"
   ]
  },
  {
   "cell_type": "code",
   "execution_count": 153,
   "metadata": {
    "ExecuteTime": {
     "end_time": "2023-06-04T15:49:24.077535Z",
     "start_time": "2023-06-04T15:49:24.070745Z"
    }
   },
   "outputs": [],
   "source": [
    "\"\"\"\n",
    "Yout code Here\n",
    "\"\"\""
   ]
  },
  {
   "cell_type": "markdown",
   "metadata": {
    "ExecuteTime": {
     "start_time": "2023-06-04T08:12:29.317451Z"
    }
   },
   "source": [
    "## <img src=\"https://img.icons8.com/dusk/64/000000/prize.png\" style=\"height:50px;display:inline\"> Credits\n",
    "---\n",
    "* Icons made by <a href=\"https://www.flaticon.com/authors/becris\" title=\"Becris\">Becris</a> from <a href=\"https://www.flaticon.com/\" title=\"Flaticon\">www.flaticon.com</a>\n",
    "* Icons from <a href=\"https://icons8.com/\">Icons8.com</a> - https://icons8.com\n",
    "* Datasets from <a href=\"https://www.kaggle.com/\">Kaggle</a> - https://www.kaggle.com/"
   ],
   "outputs": [],
   "execution_count": null
  }
 ],
 "metadata": {
  "kernelspec": {
   "display_name": "Python 3",
   "language": "python",
   "name": "python3"
  },
  "language_info": {
   "codemirror_mode": {
    "name": "ipython",
    "version": 3
   },
   "file_extension": ".py",
   "mimetype": "text/x-python",
   "name": "python",
   "nbconvert_exporter": "python",
   "pygments_lexer": "ipython3",
   "version": "3.6.9"
  }
 },
 "nbformat": 4,
 "nbformat_minor": 2
}
